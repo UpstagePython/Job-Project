{
 "cells": [
  {
   "cell_type": "code",
   "execution_count": 99,
   "id": "0fe7aa9e-ffeb-42c1-99ed-0334078c274b",
   "metadata": {},
   "outputs": [],
   "source": [
    "import json\n",
    "import os"
   ]
  },
  {
   "cell_type": "code",
   "execution_count": 100,
   "id": "8f4350f6-f7aa-434f-9105-c3aaf595a16e",
   "metadata": {},
   "outputs": [],
   "source": [
    "from selenium import webdriver\n",
    "from webdriver_manager.chrome import ChromeDriverManager\n",
    "from selenium.webdriver.common.by import By\n",
    "import time\n",
    "import random"
   ]
  },
  {
   "cell_type": "code",
   "execution_count": 101,
   "id": "dc52bb09-c949-4f0c-a37d-57f49b66eba3",
   "metadata": {},
   "outputs": [
    {
     "data": {
      "text/plain": [
       "'C:\\\\Users\\\\CHOI Je Woo\\\\Desktop\\\\fast_ai_python\\\\crawling_project\\\\crawling_data'"
      ]
     },
     "execution_count": 101,
     "metadata": {},
     "output_type": "execute_result"
    }
   ],
   "source": [
    "# 파일 위치 검색\n",
    "os.getcwd()"
   ]
  },
  {
   "cell_type": "code",
   "execution_count": 102,
   "id": "8813910f-4af1-4d84-8d70-a98aa1d267d9",
   "metadata": {},
   "outputs": [],
   "source": [
    "# 파일 위치로 이동\n",
    "os.chdir('C:\\\\Users\\\\CHOI Je Woo\\\\Desktop\\\\fast_ai_python\\\\crawling_project\\\\crawling_data')"
   ]
  },
  {
   "cell_type": "code",
   "execution_count": 103,
   "id": "f84a9d40-2453-4238-a0f1-62bfaa2c8deb",
   "metadata": {},
   "outputs": [],
   "source": [
    "# 해당 디렉터리의 파일들 추출\n",
    "file_names = os.listdir('C:\\\\Users\\\\CHOI Je Woo\\\\Desktop\\\\fast_ai_python\\\\crawling_project\\\\crawling_data')"
   ]
  },
  {
   "cell_type": "code",
   "execution_count": 104,
   "id": "0c98f7d0-b51c-470d-85b0-15a6c8645e80",
   "metadata": {},
   "outputs": [],
   "source": [
    "# 크롬 생성\n",
    "browser = webdriver.Chrome()"
   ]
  },
  {
   "cell_type": "code",
   "execution_count": 105,
   "id": "83253ce8-cdc4-420e-a305-e3ee97e57332",
   "metadata": {
    "scrolled": true
   },
   "outputs": [
    {
     "name": "stdout",
     "output_type": "stream",
     "text": [
      "{'company': '㈜뉴프렉스', 'title': '제조업체 전산관리자(서버/네트워크 관리) 신입 및 경력 모집', 'link': 'https://www.jobkorea.co.kr/Recruit/GI_Read/44431385?Oem_Code=C1&xxlogpath=1&stext=서버&listno=1', 'region': '경기 안산시 단원구 만해로 181 (신길동)', 'career': '신입·경력', 'deadline': '~04/17(수)'}\n",
      "{'company': '한일네트웍스㈜', 'title': '한일네트웍스 AI / STT / TTS / LLM 서버개발자 모집(경력)', 'link': 'https://www.jobkorea.co.kr/Recruit/GI_Read/44427624?Oem_Code=C1&logpath=1&stext=서버&listno=2', 'region': '서울 마포구 양화로8길 9 (서교동, 우리빌딩)', 'career': '경력3년↑', 'deadline': '~04/24(수)'}\n",
      "{'company': '㈜와이비에스', 'title': '[YBS] 서버 백엔드 및 JAVA 경력직   개발자  채용 공고', 'link': 'https://www.jobkorea.co.kr/Recruit/GI_Read/44421373?Oem_Code=C1&logpath=1&stext=서버&listno=3', 'region': '경기 성남시 분당구 정자일로 162 (정자동, 젤존타워2)', 'career': '경력5년↑', 'deadline': '상시채용'}\n",
      "{'company': '㈜유알피', 'title': '[㈜유알피] 24년 공공기관상주 서버관리자 채용', 'link': 'https://www.jobkorea.co.kr/Recruit/GI_Read/44410902?Oem_Code=C1&logpath=1&stext=서버&listno=4', 'region': '서울 강서구 양천로 570 (등촌동, NH서울축산농협NH서울타워) 5층 URP', 'career': '경력3년↑', 'deadline': '~05/31(금)'}\n",
      "{'company': '에스케이쉴더스㈜', 'title': 'SK하이닉스 물리보안 서버 및 네트워크 관리 계약직 채용', 'link': 'https://www.jobkorea.co.kr/Recruit/GI_Read/44411766?Oem_Code=C1&logpath=1&stext=서버&listno=5', 'region': '경기 이천시 부발읍 경충대로 2091-1 (아미리)', 'career': '경력3년↑', 'deadline': '~04/14(일)'}\n",
      "{'company': '메가스터디교육㈜', 'title': '시스템 엔지니어(서버/네트워크) 채용', 'link': 'https://www.jobkorea.co.kr/Recruit/GI_Read/44410866?Oem_Code=C1&logpath=1&stext=서버&listno=6', 'region': '서울 서초구 효령로 321 (서초동, 메가스터디)', 'career': '경력6년↑', 'deadline': '~04/21(일)'}\n",
      "{'company': '디어유', 'title': '서버개발실 실장 채용', 'link': 'https://www.jobkorea.co.kr/Recruit/GI_Read/44407786?Oem_Code=C1&logpath=1&stext=서버&listno=7', 'region': '서울 강남구 삼성로 633 (삼성동, 삼광빌딩) 5층', 'career': '경력10년↑', 'deadline': '~05/07(화)'}\n",
      "{'company': '보보스링크㈜', 'title': '[삼성역 / 외국계대기업] IT팀 서버 및 네트워크 유지보수 및 관리', 'link': 'https://www.jobkorea.co.kr/Recruit/GI_Read/44394909?Oem_Code=C1&logpath=1&stext=서버&listno=8', 'region': '서울 강남구 삼성동 159 ASEM및한국종합무역센타단지', 'career': '경력무관', 'deadline': '~06/04(화)'}\n",
      "{'company': '㈜에이수스코리아', 'title': '[ASUS KOREA] 서버 제품담당자 (Country Product Manager)  채용', 'link': 'https://www.jobkorea.co.kr/Recruit/GI_Read/44379253?Oem_Code=C1&logpath=1&stext=서버&listno=9', 'region': '서울 영등포구 여의나루로 67 (여의도동, 신송빌딩)', 'career': '경력3년↑', 'deadline': '~06/02(일)'}\n",
      "{'company': '㈜이스트게임즈', 'title': '캐주얼 전략액션 클라이언트 개발/ 게임 서버 (툴/인프라) 개발(경력) (보훈대상자 우대)', 'link': 'https://www.jobkorea.co.kr/Recruit/GI_Read/44374238?Oem_Code=C1&logpath=1&stext=서버&listno=10', 'region': '서울 서초구 반포대로 3 (서초동, 이스트빌딩)', 'career': '신입·경력', 'deadline': '상시채용'}\n",
      "{'company': '㈜컴투스', 'title': '[컴투스] [컴프야2024/MLB라이벌/컴프야V24] 모바일 게임 서버 프로그래머 (신입/경력)', 'link': 'https://www.jobkorea.co.kr/Recruit/GI_Read/44359860?Oem_Code=C1&logpath=1&stext=서버&listno=11', 'region': '서울 금천구 가산디지털1로 131 (가산동, BYC HIGHCITY)', 'career': '신입·경력', 'deadline': '~06/28(금)'}\n",
      "{'company': '㈜셀바스에이아이', 'title': '솔루션 서버 개발 인재 채용 - 경력', 'link': 'https://www.jobkorea.co.kr/Recruit/GI_Read/44352517?Oem_Code=C1&logpath=1&stext=서버&listno=12', 'region': '서울 금천구 가산디지털1로 19 (가산동, 대륭테크노타운18차) 20층', 'career': '경력5년↑', 'deadline': '상시채용'}\n",
      "{'company': '엔아이티서비스㈜', 'title': '[네이버 데이터센터 각 춘천][NIT Service] NAVER IDC 서버 운영/관리', 'link': 'https://www.jobkorea.co.kr/Recruit/GI_Read/44321196?Oem_Code=C1&logpath=1&stext=서버&listno=13', 'region': '강원 춘천시 동면 순환대로 1154-79 (만천리, 네이버데이터센터) 춘천 데이터센터 각', 'career': '경력무관', 'deadline': '~04/26(금)'}\n",
      "{'company': '엔아이티서비스㈜', 'title': '[네이버계열사][NIT Service][가산IDC] NAVER IDC 서버 운영/관리', 'link': 'https://www.jobkorea.co.kr/Recruit/GI_Read/44321185?Oem_Code=C1&logpath=1&stext=서버&listno=14', 'region': '경기 성남시 분당구 분당로 55 (서현동) 분당퍼스트타워 2층', 'career': '경력무관', 'deadline': '~04/26(금)'}\n",
      "{'company': '엔아이티서비스㈜', 'title': '[네이버계열사][NIT Service][평촌IDC] NAVER IDC 서버 운영/관리', 'link': 'https://www.jobkorea.co.kr/Recruit/GI_Read/44321156?Oem_Code=C1&logpath=1&stext=서버&listno=15', 'region': '경기 성남시 분당구 분당로 55 (서현동) 분당퍼스트타워 2층', 'career': '경력무관', 'deadline': '~04/26(금)'}\n",
      "{'company': '㈜위메이드', 'title': '[위메이드XR-Legend of YMIR] 서버 프로그래머', 'link': 'https://www.jobkorea.co.kr/Recruit/GI_Read/44311219?Oem_Code=C1&logpath=1&stext=서버&listno=16', 'region': '경기 성남시 분당구 대왕판교로644번길 49 (삼평동, 위메이드타워) 위메이드 타워', 'career': '경력2년↑', 'deadline': '~04/26(금)'}\n",
      "{'company': '한솔테크닉스', 'title': '2024년 상반기 경력사원 수시채용 - S/W 개발 (서버 프로그램)', 'link': 'https://www.jobkorea.co.kr/Recruit/GI_Read/44304573?Oem_Code=C1&logpath=1&stext=서버&listno=17', 'region': '충북 청주시 흥덕구 옥산면 과학산업1로 140 (남촌리)', 'career': '경력', 'deadline': '~04/14(일)'}\n",
      "{'company': '유비벨록스㈜', 'title': '유비벨록스 서버개발자 모집', 'link': 'https://www.jobkorea.co.kr/Recruit/GI_Read/44303047?Oem_Code=C1&logpath=1&stext=서버&listno=18', 'region': '서울 구로구 디지털로31길 38-9 (구로동, 에이스테크노타워1차) 5층', 'career': '경력7년↑', 'deadline': '~04/24(수)'}\n",
      "{'company': '㈜지에스아이티엠(GSITM)', 'title': 'GS칼텍스 여수공장 서버 및 네트워크 유지보수 관리자 모집', 'link': 'https://www.jobkorea.co.kr/Recruit/GI_Read/44302967?Oem_Code=C1&logpath=1&stext=서버&listno=19', 'region': '서울 종로구 재동 84-2 보헌빌딩', 'career': '경력3년↑', 'deadline': '~04/24(수)'}\n",
      "{'company': '㈜웹젠', 'title': '[웹젠/SUN] 서버(경력)', 'link': 'https://www.jobkorea.co.kr/Recruit/GI_Read/44292954?Oem_Code=C1&logpath=1&stext=서버&listno=20', 'region': '경기 성남시 분당구 판교로 242 (삼평동) 판교디지털센터 B동', 'career': '경력', 'deadline': '~05/21(화)'}\n",
      "{'company': '위메이드', 'title': '[디스민즈워] 게임 서버 프로그래머(PC/Console)', 'link': 'https://www.jobkorea.co.kr/Recruit/GI_Read/44247480?Oem_Code=C1&logpath=1&stext=서버&listno=21', 'region': '경기 성남시 분당구 대왕판교로644번길 49 (삼평동, 위메이드타워) 위메이드 타워', 'career': '경력3년↑', 'deadline': '~04/18(목)'}\n",
      "{'company': '㈜넥슨', 'title': '[프라시아 전기] 서버 프로그래머', 'link': 'https://www.jobkorea.co.kr/Recruit/GI_Read/44209254?Oem_Code=C1&logpath=1&stext=서버&listno=22', 'region': '경기 성남시 분당구 판교로256번길 7 (삼평동) 넥슨코리아', 'career': '경력', 'deadline': '상시채용'}\n",
      "{'company': '㈜웹젠', 'title': '[웹젠/MU Online] 서버(신입)', 'link': 'https://www.jobkorea.co.kr/Recruit/GI_Read/44207521?Oem_Code=C1&logpath=1&stext=서버&listno=23', 'region': '경기 성남시 분당구 판교로 242 (삼평동) 판교디지털센터 B동', 'career': '신입', 'deadline': '~05/11(토)'}\n",
      "{'company': '㈜티시스아이티', 'title': '2024년 IT 기술리더 영입 - 서버/웹프론트 엔지니어', 'link': 'https://www.jobkorea.co.kr/Recruit/GI_Read/44064026?Oem_Code=C1&logpath=1&stext=서버&listno=24', 'region': '서울특별시 중구 남대문로 15 (남대문로4가)', 'career': '경력', 'deadline': '~04/20(토)'}\n",
      "{'company': '㈜넥슨', 'title': '[인텔리전스랩스] 넥슨 공용 게임 서버 엔진 개발자', 'link': 'https://www.jobkorea.co.kr/Recruit/GI_Read/44027916?Oem_Code=C1&logpath=1&stext=서버&listno=25', 'region': '경기 성남시 분당구 판교로256번길 7 (삼평동) 넥슨코리아', 'career': '경력무관', 'deadline': '상시채용'}\n",
      "{'company': '㈜엔씨소프트', 'title': '[엔씨소프트][신규프로젝트] 서버프로그래머 모집', 'link': 'https://www.jobkorea.co.kr/Recruit/GI_Read/43981174?Oem_Code=C1&logpath=1&stext=서버&listno=26', 'region': '경기 성남시 분당구 삼평동 668번지', 'career': '경력8년↑', 'deadline': '~04/12(금)'}\n",
      "{'company': '본푸드서비스㈜', 'title': '영암군[골프존카운티] 홀 매니저/ 홀 서버 채용 - 본푸드서비스(주)', 'link': 'https://www.jobkorea.co.kr/Recruit/GI_Read/44428636?Oem_Code=C1&logpath=1&stext=서버&listno=27', 'region': '전남 영암군 삼호읍 에프원로 121-1 (난전리)', 'career': '신입·경력', 'deadline': '~05/09(목)'}\n",
      "{'company': '㈜엔픽셀', 'title': '[이클립스] 서버 프로그래머 모집', 'link': 'https://www.jobkorea.co.kr/Recruit/GI_Read/44422616?Oem_Code=C1&logpath=1&stext=서버&listno=28', 'region': '서울 강남구 테헤란로 231 (역삼동, 센터필드) 14층 엔픽셀', 'career': '경력무관', 'deadline': '~05/20(월)'}\n",
      "{'company': '자이에스앤디㈜', 'title': '[GS계열사] 자이S&D(주) 서버개발자 채용', 'link': 'https://www.jobkorea.co.kr/Recruit/GI_Read/44420390?Oem_Code=C1&logpath=1&stext=서버&listno=29', 'region': '서울 중구 퇴계로 173 (충무로3가, 남산스퀘어) 10층', 'career': '경력무관', 'deadline': '~06/08(토)'}\n",
      "{'company': '(주)윈스', 'title': '전문연구요원 채용(병역특례)-서버 백엔드 개발', 'link': 'https://www.jobkorea.co.kr/Recruit/GI_Read/44415974?Oem_Code=C1&logpath=1&stext=서버&listno=30', 'region': '경기 성남시 분당구 판교로228번길 15 (삼평동, 판교세븐벤처밸리1)', 'career': '신입', 'deadline': '~04/14(일)'}\n",
      "{'company': '(주)윈스', 'title': '상시채용(경력)-서버백엔드 개발', 'link': 'https://www.jobkorea.co.kr/Recruit/GI_Read/44415727?Oem_Code=C1&logpath=1&stext=서버&listno=31', 'region': '전국', 'career': '경력', 'deadline': '~04/14(일)'}\n",
      "{'company': '㈜투비소프트', 'title': '[㈜투비소프트] 서버 제품 신규 기획 및 개발', 'link': 'https://www.jobkorea.co.kr/Recruit/GI_Read/44395174?Oem_Code=C1&logpath=1&stext=서버&listno=32', 'region': '서울 강남구 삼성1동 108-7 인탑스빌딩 2~5층', 'career': '경력2년↑', 'deadline': '~05/05(일)'}\n",
      "{'company': '원스토어', 'title': '원스토어 인앱시스템 서버 개발자 채용', 'link': 'https://www.jobkorea.co.kr/Recruit/GI_Read/44378370?Oem_Code=C1&logpath=1&stext=서버&listno=33', 'region': '경기 성남시 분당구 판교역로146번길 20 (백현동, 현대백화점판교점) Office-H 10층', 'career': '경력5년↑', 'deadline': '~05/03(금)'}\n",
      "{'company': '㈜비아이매트릭스', 'title': '[코스닥기업] 서버 개발자 채용', 'link': 'https://www.jobkorea.co.kr/Recruit/GI_Read/44360467?Oem_Code=C1&logpath=1&stext=서버&listno=34', 'region': '서울 강남구 선릉로 433 (역삼동, 세방빌딩) 신관 17층', 'career': '경력5년↑', 'deadline': '~04/16(화)'}\n",
      "{'company': '㈜트루본', 'title': '[청년일자리 도약 장려금] 각 부문별 담당자 모집 - 개발자(JAVA), 디자인(포토샵,UI), Database엔지니어, 서버/네트워크 엔지니어, 구매, SI영업', 'link': 'https://www.jobkorea.co.kr/Recruit/GI_Read/44354722?Oem_Code=C1&logpath=1&stext=서버&listno=35', 'region': '경기 성남시 분당구 판교로228번길 15 (삼평동, 판교세븐벤처밸리1)', 'career': '경력무관', 'deadline': '~05/01(수)'}\n",
      "{'company': '넷마블네오㈜', 'title': '[넷마블네오] 프로젝트A 서버 담당 채용', 'link': 'https://www.jobkorea.co.kr/Recruit/GI_Read/44280710?Oem_Code=C1&logpath=1&stext=서버&listno=36', 'region': '서울 구로구 디지털로26길 38 (구로동, G-SQUARE) 지타워 36층', 'career': '경력3년↑', 'deadline': '~05/20(월)'}\n",
      "{'company': '㈜엔씨소프트', 'title': '[엔씨소프트] 해외 유명 IP 기반의 CCG 프로젝트 서버 프로그래머 모집', 'link': 'https://www.jobkorea.co.kr/Recruit/GI_Read/44255686?Oem_Code=C1&logpath=1&stext=서버&listno=37', 'region': '경기 성남시 분당구 삼평동 668번지', 'career': '경력5년↑', 'deadline': '~05/17(금)'}\n",
      "{'company': '㈜폴리큐브', 'title': '서버 및 앱 클라이언트 프로그래머를 모십니다.', 'link': 'https://www.jobkorea.co.kr/Recruit/GI_Read/44241206?Oem_Code=C1&logpath=1&stext=서버&listno=38', 'region': '서울 강남구 테헤란로86길 15 (대치동, 동구빌딩) 동구빌딩 4층', 'career': '경력무관', 'deadline': '~04/14(일)'}\n",
      "{'company': '한솔테크닉스', 'title': 'S/W개발 (서버 프로그램) 경력', 'link': 'https://www.jobkorea.co.kr/Recruit/GI_Read/44229137?Oem_Code=C1&logpath=1&stext=서버&listno=39', 'region': '충북 청주시 흥덕구 옥산면 과학산업1로 140 (남촌리)', 'career': '경력2년↑', 'deadline': '~04/14(일)'}\n",
      "{'company': '㈜셀바스에이아이', 'title': '음성인식 솔루션 서버 개발', 'link': 'https://www.jobkorea.co.kr/Recruit/GI_Read/44229979?Oem_Code=C1&logpath=1&stext=서버&listno=40', 'region': '서울 금천구 가산디지털1로 19 (가산동, 대륭테크노타운18차) 20층', 'career': '경력5년↑', 'deadline': '~04/14(일)'}\n",
      "{'company': '브이피㈜', 'title': '[브이피] 서버개발(스팸알림서비스) 경력 채용', 'link': 'https://www.jobkorea.co.kr/Recruit/GI_Read/44230628?Oem_Code=C1&logpath=1&stext=서버&listno=41', 'region': '서울 중구 을지로30길 20 (을지로4가) 을지트윈타워 13F', 'career': '경력3년↑', 'deadline': '~04/14(일)'}\n",
      "{'company': '㈜여의시스템', 'title': '기술영업 경력사원 모집 - 산업용 서버', 'link': 'https://www.jobkorea.co.kr/Recruit/GI_Read/44222885?Oem_Code=C1&logpath=1&stext=서버&listno=42', 'region': '경기 성남시 중원구 둔촌대로 544 (상대원동) (주)여의시스템', 'career': '경력5년↑', 'deadline': '~05/10(금)'}\n",
      "{'company': '㈜여의시스템', 'title': 'PM (프로젝트 매니저) 경력사원 모집 - 산업용 서버', 'link': 'https://www.jobkorea.co.kr/Recruit/GI_Read/44222053?Oem_Code=C1&logpath=1&stext=서버&listno=43', 'region': '경기 성남시 중원구 둔촌대로 544 (상대원동) (주)여의시스템', 'career': '경력3년↑', 'deadline': '~05/10(금)'}\n",
      "{'company': '씨에이치솔루션㈜', 'title': '[고양시 덕양구] 올림픽CC 골프장 클럽하우스 주5일 홀서버 정규직 채용', 'link': 'https://www.jobkorea.co.kr/Recruit/GI_Read/44215798?Oem_Code=C1&logpath=1&stext=서버&listno=44', 'region': '경기 고양시 덕양구 혜음로 301 (벽제동, 올림픽컨츄리클럽) 클럽하우스', 'career': '경력무관', 'deadline': '~04/12(금)'}\n",
      "{'company': '㈜유니에스', 'title': '[기숙사제공]에버랜드 내 삼성웰스토리 오리엔탈 주방, 홀서버, 세척직 채용', 'link': 'https://www.jobkorea.co.kr/Recruit/GI_Read/44210533?Oem_Code=C1&logpath=1&stext=서버&listno=45', 'region': '경기 용인시 기흥구 덕영대로 1751 (하갈동, 삼성노블카운티) 삼성노블카운티', 'career': '경력무관', 'deadline': '~04/12(금)'}\n",
      "{'company': '대원씨티에스㈜', 'title': '대원씨티에스(주)서버,클라우드 영업(신입)모집', 'link': 'https://www.jobkorea.co.kr/Recruit/GI_Read/44102011?Oem_Code=C1&logpath=1&stext=서버&listno=46', 'region': '서울 용산구 청파로 109 (한강로3가, 나진상가) 나진전자월드2층', 'career': '경력무관', 'deadline': '~04/28(일)'}\n",
      "{'company': '컴퓨터수리', 'title': '네트워크서버및컴퓨터수리엔지니어출장팀원모집', 'link': 'https://www.jobkorea.co.kr/Recruit/GI_Read/44449625?Oem_Code=C1&logpath=1&stext=서버&listno=47', 'region': '인천 남동구 미래로 21 (구월동, SR노빌리안2) 1', 'career': '경력무관', 'deadline': '~04/15(월)'}\n",
      "{'company': '㈜새한정보', 'title': '신한카드 웹서버 업무 개발 및 운영 - SM', 'link': 'https://www.jobkorea.co.kr/Recruit/GI_Read/44449065?Oem_Code=C1&logpath=1&stext=서버&listno=48', 'region': '서울 중구 을지로 100 (을지로2가) A동', 'career': '경력3년↑', 'deadline': '~04/17(수)'}\n",
      "{'company': '㈜유니디아', 'title': '스토리지 및 서버 네트워크 엔지니어 채용', 'link': 'https://www.jobkorea.co.kr/Recruit/GI_Read/44448746?Oem_Code=C1&logpath=1&stext=서버&listno=49', 'region': '서울 영등포구 영등포로 144 (당산동1가, (주)유니디아)', 'career': '신입·경력', 'deadline': '~05/12(일)'}\n",
      "{'company': '㈜엘에스씨시스템즈', 'title': 'Linux 서버관리 및 시스템운영 신입/경력 사원 채용', 'link': 'https://www.jobkorea.co.kr/Recruit/GI_Read/44447062?Oem_Code=C1&logpath=1&stext=서버&listno=50', 'region': '경기 화성시 삼성전자로 1-1 (반월동) 삼성전자 DSR타워', 'career': '신입·경력', 'deadline': '~05/12(일)'}\n",
      "{'company': '㈜아톤', 'title': '서버개발(UPASS)', 'link': 'https://www.jobkorea.co.kr/Recruit/GI_Read/44440414?Oem_Code=C1&logpath=1&stext=서버&listno=51', 'region': '서울 영등포구 여의대로 108 (여의도동, 파크원) 26층(파크원타워1)', 'career': '경력5년↑', 'deadline': '~06/10(월)'}\n",
      "{'company': '㈜게임엔', 'title': '서버 및 시스템 관리자 채용 공고', 'link': 'https://www.jobkorea.co.kr/Recruit/GI_Read/44445196?Oem_Code=C1&logpath=1&stext=서버&listno=52', 'region': '서울 강남구 논현로 418 (역삼동, 휴먼빌딩) 3층', 'career': '경력무관', 'deadline': '~04/18(목)'}\n",
      "{'company': '㈜우리시스템즈', 'title': '서버 유지보수 엔지니어 경력직 모집', 'link': 'https://www.jobkorea.co.kr/Recruit/GI_Read/44444762?Oem_Code=C1&logpath=1&stext=서버&listno=53', 'region': '서울 구로구 디지털로29길 38 (구로동, 에이스테크노타워Ⅲ) 1008', 'career': '경력', 'deadline': '~05/12(일)'}\n",
      "{'company': '컴퓨터 수리', 'title': '강원도권역네트워크서버설치및노트북AS팀원모집', 'link': 'https://www.jobkorea.co.kr/Recruit/GI_Read/44443984?Oem_Code=C1&logpath=1&stext=서버&listno=54', 'region': '경기 광명시 가림로 217-1 (철산동, 정상하이츠빌) 1', 'career': '경력무관', 'deadline': '~04/15(월)'}\n",
      "{'company': '컴퓨터수리', 'title': '계획성있는서버구축엔지니어모십니다.', 'link': 'https://www.jobkorea.co.kr/Recruit/GI_Read/44443620?Oem_Code=C1&logpath=1&stext=서버&listno=55', 'region': '서울 강북구 한천로139나길 17 (수유동, 삼성타워) 302호', 'career': '경력무관', 'deadline': '~04/15(월)'}\n",
      "{'company': '라온시큐어㈜', 'title': '[라온시큐어] 오픈소스 서버개발 경력직 채용', 'link': 'https://www.jobkorea.co.kr/Recruit/GI_Read/44443205?Oem_Code=C1&logpath=1&stext=서버&listno=56', 'region': '서울 영등포구 여의대로 108 (여의도동, 파크원) 파크원타워2 47-48층', 'career': '경력10년↑', 'deadline': '~06/11(화)'}\n",
      "{'company': '㈜아이티사람들', 'title': '[ 초긴급 ,,,,  (JAVA서버개발자 & SEMP경험자) - 판교 ]', 'link': 'https://www.jobkorea.co.kr/Recruit/GI_Read/44441857?Oem_Code=C1&logpath=1&stext=서버&listno=57', 'region': '경기 성남시', 'career': '경력10년↑', 'deadline': '~04/15(월)'}\n",
      "{'company': '㈜오아시스비즈니스', 'title': '[오아시스비즈니스] 서버/백엔드 개발자 채용', 'link': 'https://www.jobkorea.co.kr/Recruit/GI_Read/44438822?Oem_Code=C1&logpath=1&stext=서버&listno=58', 'region': '서울 성동구 아차산로 38 (성수동1가, 개풍빌딩) 2층', 'career': '경력5년↑', 'deadline': '상시채용'}\n"
     ]
    }
   ],
   "source": [
    "#파일의 데이터 추출 및 처리\n",
    "for file_name in file_names:\n",
    "    # 파일읽기로 가져오기\n",
    "    with open(file_name, 'rt', encoding='UTF8') as file:\n",
    "        data = json.load(file)\n",
    "\n",
    "    # 데이터를 180개 대해 주소값 갱신\n",
    "    for i in range(180):\n",
    "        url = data[i]['link']\n",
    "        browser.get(url)\n",
    "        time.sleep(random.randint(3,5))\n",
    "        try:\n",
    "            data[i]['region'] = browser.find_element(By.ID, 'mapDtl').text\n",
    "        except:\n",
    "            pass\n",
    "        print(data[i])\n",
    "    # 파일 저장\n",
    "    with open(file_name, 'w', encoding='utf-8') as file:\n",
    "        json.dump(data[0:181], file, ensure_ascii=False, indent=4)"
   ]
  }
 ],
 "metadata": {
  "kernelspec": {
   "display_name": "Python 3 (ipykernel)",
   "language": "python",
   "name": "python3"
  },
  "language_info": {
   "codemirror_mode": {
    "name": "ipython",
    "version": 3
   },
   "file_extension": ".py",
   "mimetype": "text/x-python",
   "name": "python",
   "nbconvert_exporter": "python",
   "pygments_lexer": "ipython3",
   "version": "3.11.7"
  }
 },
 "nbformat": 4,
 "nbformat_minor": 5
}
