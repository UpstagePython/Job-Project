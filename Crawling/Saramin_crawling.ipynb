{
 "cells": [
  {
   "cell_type": "markdown",
   "id": "c75a3abd",
   "metadata": {},
   "source": [
    "company 회사명\n",
    "\n",
    "title 제목\n",
    "\n",
    "region 지역\n",
    "\n",
    "career 경력\n",
    "\n",
    "deadline 마감\n",
    "\n",
    "link 링크"
   ]
  },
  {
   "cell_type": "code",
   "execution_count": 1,
   "id": "4d9fd33e",
   "metadata": {},
   "outputs": [],
   "source": [
    "from selenium import webdriver\n",
    "from selenium.webdriver.common.by import By\n",
    "import time"
   ]
  },
  {
   "cell_type": "code",
   "execution_count": 2,
   "id": "9f762d05",
   "metadata": {},
   "outputs": [
    {
     "name": "stdout",
     "output_type": "stream",
     "text": [
      "https://www.jobkorea.co.kr/Search/?stext=데이터&tabType=recruit&Page_No=1\n"
     ]
    }
   ],
   "source": [
    "keyword = input('수집하려는 앱 이름을 입력: ')\n",
    "keyword = keyword.replace(' ','%20')\n",
    "page_no = 1\n",
    "jobkorea_url = f\"https://www.jobkorea.co.kr/Search/?stext={keyword}&tabType=recruit&Page_No={page_no}\"\n",
    "\n",
    "print(jobkorea_url)"
   ]
  },
  {
   "cell_type": "code",
   "execution_count": 3,
   "id": "b06cecdb",
   "metadata": {},
   "outputs": [],
   "source": [
    "browser = webdriver.Chrome()"
   ]
  },
  {
   "cell_type": "code",
   "execution_count": 4,
   "id": "88f8ca75",
   "metadata": {},
   "outputs": [],
   "source": [
    "browser.get(jobkorea_url)"
   ]
  },
  {
   "cell_type": "code",
   "execution_count": 169,
   "id": "b34dfb01",
   "metadata": {},
   "outputs": [],
   "source": [
    "#data_all = browser.find_element(By.CLASS_NAME, 'list-default')"
   ]
  },
  {
   "cell_type": "code",
   "execution_count": 170,
   "id": "9491b31e",
   "metadata": {
    "scrolled": true
   },
   "outputs": [],
   "source": [
    "#data_all.text"
   ]
  },
  {
   "cell_type": "code",
   "execution_count": 5,
   "id": "402be8b7",
   "metadata": {
    "scrolled": false
   },
   "outputs": [
    {
     "ename": "StaleElementReferenceException",
     "evalue": "Message: stale element reference: stale element not found in the current frame\n  (Session info: chrome=123.0.6312.107); For documentation on this error, please visit: https://www.selenium.dev/documentation/webdriver/troubleshooting/errors#stale-element-reference-exception\nStacktrace:\n0   chromedriver                        0x0000000102bec4a4 chromedriver + 4326564\n1   chromedriver                        0x0000000102be496c chromedriver + 4295020\n2   chromedriver                        0x0000000102810088 chromedriver + 278664\n3   chromedriver                        0x0000000102814abc chromedriver + 297660\n4   chromedriver                        0x0000000102816428 chromedriver + 304168\n5   chromedriver                        0x00000001028164a0 chromedriver + 304288\n6   chromedriver                        0x000000010284da28 chromedriver + 530984\n7   chromedriver                        0x0000000102848dd0 chromedriver + 511440\n8   chromedriver                        0x000000010288b4f8 chromedriver + 783608\n9   chromedriver                        0x00000001028474e4 chromedriver + 505060\n10  chromedriver                        0x0000000102847f5c chromedriver + 507740\n11  chromedriver                        0x0000000102bafa40 chromedriver + 4078144\n12  chromedriver                        0x0000000102bb47f8 chromedriver + 4098040\n13  chromedriver                        0x0000000102b965e4 chromedriver + 3974628\n14  chromedriver                        0x0000000102bb5110 chromedriver + 4100368\n15  chromedriver                        0x0000000102b87bd4 chromedriver + 3914708\n16  chromedriver                        0x0000000102bd5718 chromedriver + 4232984\n17  chromedriver                        0x0000000102bd5894 chromedriver + 4233364\n18  chromedriver                        0x0000000102be45e0 chromedriver + 4294112\n19  libsystem_pthread.dylib             0x0000000191dfef94 _pthread_start + 136\n20  libsystem_pthread.dylib             0x0000000191df9d34 thread_start + 8\n",
     "output_type": "error",
     "traceback": [
      "\u001b[0;31m---------------------------------------------------------------------------\u001b[0m",
      "\u001b[0;31mStaleElementReferenceException\u001b[0m            Traceback (most recent call last)",
      "Cell \u001b[0;32mIn[5], line 8\u001b[0m\n\u001b[1;32m      6\u001b[0m \u001b[38;5;28;01mfor\u001b[39;00m ele \u001b[38;5;129;01min\u001b[39;00m data_list:\n\u001b[1;32m      7\u001b[0m     company \u001b[38;5;241m=\u001b[39m ele\u001b[38;5;241m.\u001b[39mfind_element(By\u001b[38;5;241m.\u001b[39mCLASS_NAME, \u001b[38;5;124m'\u001b[39m\u001b[38;5;124mpost-list-corp\u001b[39m\u001b[38;5;124m'\u001b[39m)\u001b[38;5;241m.\u001b[39mfind_element(By\u001b[38;5;241m.\u001b[39mCLASS_NAME, \u001b[38;5;124m'\u001b[39m\u001b[38;5;124mname.dev_view\u001b[39m\u001b[38;5;124m'\u001b[39m)\u001b[38;5;241m.\u001b[39mtext\n\u001b[0;32m----> 8\u001b[0m     title \u001b[38;5;241m=\u001b[39m \u001b[43mele\u001b[49m\u001b[38;5;241;43m.\u001b[39;49m\u001b[43mfind_element\u001b[49m\u001b[43m(\u001b[49m\u001b[43mBy\u001b[49m\u001b[38;5;241;43m.\u001b[39;49m\u001b[43mCLASS_NAME\u001b[49m\u001b[43m,\u001b[49m\u001b[43m \u001b[49m\u001b[38;5;124;43m'\u001b[39;49m\u001b[38;5;124;43mpost-list-info\u001b[39;49m\u001b[38;5;124;43m'\u001b[39;49m\u001b[43m)\u001b[49m\u001b[38;5;241;43m.\u001b[39;49m\u001b[43mfind_element\u001b[49m\u001b[43m(\u001b[49m\u001b[43mBy\u001b[49m\u001b[38;5;241;43m.\u001b[39;49m\u001b[43mCLASS_NAME\u001b[49m\u001b[43m,\u001b[49m\u001b[43m \u001b[49m\u001b[38;5;124;43m'\u001b[39;49m\u001b[38;5;124;43mtitle\u001b[39;49m\u001b[38;5;124;43m'\u001b[39;49m\u001b[43m)\u001b[49m\u001b[38;5;241;43m.\u001b[39;49m\u001b[43mtext\u001b[49m\n\u001b[1;32m      9\u001b[0m     region \u001b[38;5;241m=\u001b[39m ele\u001b[38;5;241m.\u001b[39mfind_element(By\u001b[38;5;241m.\u001b[39mCLASS_NAME, \u001b[38;5;124m'\u001b[39m\u001b[38;5;124mpost-list-info\u001b[39m\u001b[38;5;124m'\u001b[39m)\u001b[38;5;241m.\u001b[39mfind_element(By\u001b[38;5;241m.\u001b[39mCLASS_NAME, \u001b[38;5;124m'\u001b[39m\u001b[38;5;124mloc.long\u001b[39m\u001b[38;5;124m'\u001b[39m)\u001b[38;5;241m.\u001b[39mtext\n\u001b[1;32m     10\u001b[0m     career \u001b[38;5;241m=\u001b[39m ele\u001b[38;5;241m.\u001b[39mfind_element(By\u001b[38;5;241m.\u001b[39mCLASS_NAME, \u001b[38;5;124m'\u001b[39m\u001b[38;5;124mpost-list-info\u001b[39m\u001b[38;5;124m'\u001b[39m)\u001b[38;5;241m.\u001b[39mfind_element(By\u001b[38;5;241m.\u001b[39mCLASS_NAME, \u001b[38;5;124m'\u001b[39m\u001b[38;5;124mexp\u001b[39m\u001b[38;5;124m'\u001b[39m)\u001b[38;5;241m.\u001b[39mtext\n",
      "File \u001b[0;32m~/.pyenv/versions/3.9.1/lib/python3.9/site-packages/selenium/webdriver/remote/webelement.py:90\u001b[0m, in \u001b[0;36mWebElement.text\u001b[0;34m(self)\u001b[0m\n\u001b[1;32m     87\u001b[0m \u001b[38;5;129m@property\u001b[39m\n\u001b[1;32m     88\u001b[0m \u001b[38;5;28;01mdef\u001b[39;00m \u001b[38;5;21mtext\u001b[39m(\u001b[38;5;28mself\u001b[39m) \u001b[38;5;241m-\u001b[39m\u001b[38;5;241m>\u001b[39m \u001b[38;5;28mstr\u001b[39m:\n\u001b[1;32m     89\u001b[0m \u001b[38;5;250m    \u001b[39m\u001b[38;5;124;03m\"\"\"The text of the element.\"\"\"\u001b[39;00m\n\u001b[0;32m---> 90\u001b[0m     \u001b[38;5;28;01mreturn\u001b[39;00m \u001b[38;5;28;43mself\u001b[39;49m\u001b[38;5;241;43m.\u001b[39;49m\u001b[43m_execute\u001b[49m\u001b[43m(\u001b[49m\u001b[43mCommand\u001b[49m\u001b[38;5;241;43m.\u001b[39;49m\u001b[43mGET_ELEMENT_TEXT\u001b[49m\u001b[43m)\u001b[49m[\u001b[38;5;124m\"\u001b[39m\u001b[38;5;124mvalue\u001b[39m\u001b[38;5;124m\"\u001b[39m]\n",
      "File \u001b[0;32m~/.pyenv/versions/3.9.1/lib/python3.9/site-packages/selenium/webdriver/remote/webelement.py:395\u001b[0m, in \u001b[0;36mWebElement._execute\u001b[0;34m(self, command, params)\u001b[0m\n\u001b[1;32m    393\u001b[0m     params \u001b[38;5;241m=\u001b[39m {}\n\u001b[1;32m    394\u001b[0m params[\u001b[38;5;124m\"\u001b[39m\u001b[38;5;124mid\u001b[39m\u001b[38;5;124m\"\u001b[39m] \u001b[38;5;241m=\u001b[39m \u001b[38;5;28mself\u001b[39m\u001b[38;5;241m.\u001b[39m_id\n\u001b[0;32m--> 395\u001b[0m \u001b[38;5;28;01mreturn\u001b[39;00m \u001b[38;5;28;43mself\u001b[39;49m\u001b[38;5;241;43m.\u001b[39;49m\u001b[43m_parent\u001b[49m\u001b[38;5;241;43m.\u001b[39;49m\u001b[43mexecute\u001b[49m\u001b[43m(\u001b[49m\u001b[43mcommand\u001b[49m\u001b[43m,\u001b[49m\u001b[43m \u001b[49m\u001b[43mparams\u001b[49m\u001b[43m)\u001b[49m\n",
      "File \u001b[0;32m~/.pyenv/versions/3.9.1/lib/python3.9/site-packages/selenium/webdriver/remote/webdriver.py:347\u001b[0m, in \u001b[0;36mWebDriver.execute\u001b[0;34m(self, driver_command, params)\u001b[0m\n\u001b[1;32m    345\u001b[0m response \u001b[38;5;241m=\u001b[39m \u001b[38;5;28mself\u001b[39m\u001b[38;5;241m.\u001b[39mcommand_executor\u001b[38;5;241m.\u001b[39mexecute(driver_command, params)\n\u001b[1;32m    346\u001b[0m \u001b[38;5;28;01mif\u001b[39;00m response:\n\u001b[0;32m--> 347\u001b[0m     \u001b[38;5;28;43mself\u001b[39;49m\u001b[38;5;241;43m.\u001b[39;49m\u001b[43merror_handler\u001b[49m\u001b[38;5;241;43m.\u001b[39;49m\u001b[43mcheck_response\u001b[49m\u001b[43m(\u001b[49m\u001b[43mresponse\u001b[49m\u001b[43m)\u001b[49m\n\u001b[1;32m    348\u001b[0m     response[\u001b[38;5;124m\"\u001b[39m\u001b[38;5;124mvalue\u001b[39m\u001b[38;5;124m\"\u001b[39m] \u001b[38;5;241m=\u001b[39m \u001b[38;5;28mself\u001b[39m\u001b[38;5;241m.\u001b[39m_unwrap_value(response\u001b[38;5;241m.\u001b[39mget(\u001b[38;5;124m\"\u001b[39m\u001b[38;5;124mvalue\u001b[39m\u001b[38;5;124m\"\u001b[39m, \u001b[38;5;28;01mNone\u001b[39;00m))\n\u001b[1;32m    349\u001b[0m     \u001b[38;5;28;01mreturn\u001b[39;00m response\n",
      "File \u001b[0;32m~/.pyenv/versions/3.9.1/lib/python3.9/site-packages/selenium/webdriver/remote/errorhandler.py:229\u001b[0m, in \u001b[0;36mErrorHandler.check_response\u001b[0;34m(self, response)\u001b[0m\n\u001b[1;32m    227\u001b[0m         alert_text \u001b[38;5;241m=\u001b[39m value[\u001b[38;5;124m\"\u001b[39m\u001b[38;5;124malert\u001b[39m\u001b[38;5;124m\"\u001b[39m]\u001b[38;5;241m.\u001b[39mget(\u001b[38;5;124m\"\u001b[39m\u001b[38;5;124mtext\u001b[39m\u001b[38;5;124m\"\u001b[39m)\n\u001b[1;32m    228\u001b[0m     \u001b[38;5;28;01mraise\u001b[39;00m exception_class(message, screen, stacktrace, alert_text)  \u001b[38;5;66;03m# type: ignore[call-arg]  # mypy is not smart enough here\u001b[39;00m\n\u001b[0;32m--> 229\u001b[0m \u001b[38;5;28;01mraise\u001b[39;00m exception_class(message, screen, stacktrace)\n",
      "\u001b[0;31mStaleElementReferenceException\u001b[0m: Message: stale element reference: stale element not found in the current frame\n  (Session info: chrome=123.0.6312.107); For documentation on this error, please visit: https://www.selenium.dev/documentation/webdriver/troubleshooting/errors#stale-element-reference-exception\nStacktrace:\n0   chromedriver                        0x0000000102bec4a4 chromedriver + 4326564\n1   chromedriver                        0x0000000102be496c chromedriver + 4295020\n2   chromedriver                        0x0000000102810088 chromedriver + 278664\n3   chromedriver                        0x0000000102814abc chromedriver + 297660\n4   chromedriver                        0x0000000102816428 chromedriver + 304168\n5   chromedriver                        0x00000001028164a0 chromedriver + 304288\n6   chromedriver                        0x000000010284da28 chromedriver + 530984\n7   chromedriver                        0x0000000102848dd0 chromedriver + 511440\n8   chromedriver                        0x000000010288b4f8 chromedriver + 783608\n9   chromedriver                        0x00000001028474e4 chromedriver + 505060\n10  chromedriver                        0x0000000102847f5c chromedriver + 507740\n11  chromedriver                        0x0000000102bafa40 chromedriver + 4078144\n12  chromedriver                        0x0000000102bb47f8 chromedriver + 4098040\n13  chromedriver                        0x0000000102b965e4 chromedriver + 3974628\n14  chromedriver                        0x0000000102bb5110 chromedriver + 4100368\n15  chromedriver                        0x0000000102b87bd4 chromedriver + 3914708\n16  chromedriver                        0x0000000102bd5718 chromedriver + 4232984\n17  chromedriver                        0x0000000102bd5894 chromedriver + 4233364\n18  chromedriver                        0x0000000102be45e0 chromedriver + 4294112\n19  libsystem_pthread.dylib             0x0000000191dfef94 _pthread_start + 136\n20  libsystem_pthread.dylib             0x0000000191df9d34 thread_start + 8\n"
     ]
    }
   ],
   "source": [
    "jobkorea_data = []\n",
    "\n",
    "while True:\n",
    "    data_all = browser.find_element(By.CLASS_NAME, 'list-default')\n",
    "    data_list = data_all.find_elements(By.CLASS_NAME, \"post\")\n",
    "    for ele in data_list:\n",
    "        company = ele.find_element(By.CLASS_NAME, 'post-list-corp').find_element(By.CLASS_NAME, 'name.dev_view').text\n",
    "        title = ele.find_element(By.CLASS_NAME, 'post-list-info').find_element(By.CLASS_NAME, 'title').text\n",
    "        region = ele.find_element(By.CLASS_NAME, 'post-list-info').find_element(By.CLASS_NAME, 'loc.long').text\n",
    "        career = ele.find_element(By.CLASS_NAME, 'post-list-info').find_element(By.CLASS_NAME, 'exp').text\n",
    "        deadline = ele.find_element(By.CLASS_NAME, 'post-list-info').find_element(By.CLASS_NAME, 'date').text\n",
    "        link = ele.find_element(By.CLASS_NAME, 'post-list-info').find_element(By.CLASS_NAME, 'title').get_attribute('href')\n",
    "\n",
    "        jobkorea_data.append({\n",
    "            'company':company,\n",
    "            'title': title,\n",
    "            'region': region,\n",
    "            'career': career,\n",
    "            'deadline': deadline,\n",
    "            'link': link,\n",
    "        })\n",
    "    try:\n",
    "        browser.find_element(By.CLASS_NAME, 'tplBtn.btnPgnNext').click()\n",
    "        time.sleep(1)\n",
    "    except:\n",
    "        break"
   ]
  },
  {
   "cell_type": "code",
   "execution_count": 184,
   "id": "39a94277",
   "metadata": {
    "scrolled": true
   },
   "outputs": [
    {
     "data": {
      "text/plain": [
       "1617"
      ]
     },
     "execution_count": 184,
     "metadata": {},
     "output_type": "execute_result"
    }
   ],
   "source": [
    "len(jobkorea_data)"
   ]
  },
  {
   "cell_type": "code",
   "execution_count": 110,
   "id": "b964e4d7",
   "metadata": {
    "scrolled": false
   },
   "outputs": [
    {
     "data": {
      "text/plain": [
       "'151'"
      ]
     },
     "execution_count": 110,
     "metadata": {},
     "output_type": "execute_result"
    }
   ],
   "source": [
    "#browser.find_element(By.CLASS_NAME,'dev_tot').text"
   ]
  },
  {
   "cell_type": "code",
   "execution_count": 159,
   "id": "871c2da3",
   "metadata": {},
   "outputs": [
    {
     "name": "stdout",
     "output_type": "stream",
     "text": [
      "n\n"
     ]
    }
   ],
   "source": [
    "# try:\n",
    "#     print(browser.find_element(By.CLASS_NAME, 'tplBtn.btnPgnNext'))\n",
    "#     print('y')\n",
    "# except:\n",
    "#     print('n')"
   ]
  }
 ],
 "metadata": {
  "kernelspec": {
   "display_name": "Python 3 (ipykernel)",
   "language": "python",
   "name": "python3"
  },
  "language_info": {
   "codemirror_mode": {
    "name": "ipython",
    "version": 3
   },
   "file_extension": ".py",
   "mimetype": "text/x-python",
   "name": "python",
   "nbconvert_exporter": "python",
   "pygments_lexer": "ipython3",
   "version": "3.9.1"
  }
 },
 "nbformat": 4,
 "nbformat_minor": 5
}
