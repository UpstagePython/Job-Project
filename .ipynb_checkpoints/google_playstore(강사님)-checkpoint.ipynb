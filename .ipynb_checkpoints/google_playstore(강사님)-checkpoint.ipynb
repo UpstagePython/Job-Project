{
 "cells": [
  {
   "cell_type": "markdown",
   "id": "1dd545c9",
   "metadata": {},
   "source": [
    "## 구글 플레이스토어 댓글 수집\n",
    "\n",
    "- 면접 가시기 전에, 앱 서비스가 있다고 하면 => 댓글 수집해서 사용자가 불편함을 느끼는 부분을 조사를 해가자 (뱅크샐러드)\n",
    "\n",
    "- 조건1: 내가 입력한 검색어를 기반으로 첫 번째 앱을 선택합니다.\n",
    "- 조건2: 댓글 수집이 100개 이상 수집되어야 합니다. (댓글 갯수가 100미만인 앱은 예외)\n",
    "- 조건3: 댓글에서 아래의 정보를 가져오세요.\n",
    "    - 작성자명, 별표 갯수, 작성일, 작성 내용\n",
    "- 조건4: 크롤링한 데이터를 오늘 날짜를 기준으로 엑셀에 저장하시오. (파일명: 2023-04-18)"
   ]
  },
  {
   "cell_type": "code",
   "execution_count": 1,
   "id": "2e979deb",
   "metadata": {},
   "outputs": [],
   "source": [
    "from selenium import webdriver\n",
    "from selenium.webdriver.common.by import By"
   ]
  },
  {
   "cell_type": "code",
   "execution_count": 10,
   "id": "95e55586",
   "metadata": {},
   "outputs": [
    {
     "name": "stdout",
     "output_type": "stream",
     "text": [
      "수집하고자 하는 앱 이름을 입력하세요 : 배달의민족\n",
      "https://play.google.com/store/search?q=배달의민족&c=apps\n"
     ]
    }
   ],
   "source": [
    "# (1) 링크 생성\n",
    "keyword = input(\"수집하고자 하는 앱 이름을 입력하세요 : \")\n",
    "url = f'https://play.google.com/store/search?q={keyword}&c=apps'\n",
    "\n",
    "print(url)"
   ]
  },
  {
   "cell_type": "code",
   "execution_count": 11,
   "id": "c2e1f5e7",
   "metadata": {},
   "outputs": [],
   "source": [
    "# (2) 브라우저를 열고, 페이지 이동\n",
    "browser = webdriver.Chrome()"
   ]
  },
  {
   "cell_type": "code",
   "execution_count": 12,
   "id": "13a7a67f",
   "metadata": {},
   "outputs": [],
   "source": [
    "browser.get(url)"
   ]
  },
  {
   "cell_type": "code",
   "execution_count": 13,
   "id": "e7561e7f",
   "metadata": {},
   "outputs": [],
   "source": [
    "# (3) 앱의 상세 페이지로 이동\n",
    "app_url = browser.find_element(By.CLASS_NAME, 'Qfxief').get_attribute('href')\n",
    "browser.get(app_url)"
   ]
  },
  {
   "cell_type": "code",
   "execution_count": 16,
   "id": "3efce31b",
   "metadata": {},
   "outputs": [],
   "source": [
    "# 버튼 클릭\n",
    "# browser.find_element(By.CLASS_NAME, 'XUIuZ').click()"
   ]
  },
  {
   "cell_type": "code",
   "execution_count": 17,
   "id": "ce94548f",
   "metadata": {},
   "outputs": [
    {
     "ename": "NoSuchElementException",
     "evalue": "Message: no such element: Unable to locate element: {\"method\":\"xpath\",\"selector\":\"//*[@id=\"ow85\"]/section/header/div/div[2]/button\"}\n  (Session info: chrome=123.0.6312.107); For documentation on this error, please visit: https://www.selenium.dev/documentation/webdriver/troubleshooting/errors#no-such-element-exception\nStacktrace:\n0   chromedriver                        0x0000000105220474 chromedriver + 4326516\n1   chromedriver                        0x000000010521893c chromedriver + 4294972\n2   chromedriver                        0x0000000104e44088 chromedriver + 278664\n3   chromedriver                        0x0000000104e86a80 chromedriver + 551552\n4   chromedriver                        0x0000000104ebf4f8 chromedriver + 783608\n5   chromedriver                        0x0000000104e7b4e4 chromedriver + 505060\n6   chromedriver                        0x0000000104e7bf5c chromedriver + 507740\n7   chromedriver                        0x00000001051e3a10 chromedriver + 4078096\n8   chromedriver                        0x00000001051e87c8 chromedriver + 4097992\n9   chromedriver                        0x00000001051ca5b4 chromedriver + 3974580\n10  chromedriver                        0x00000001051e90e0 chromedriver + 4100320\n11  chromedriver                        0x00000001051bbba4 chromedriver + 3914660\n12  chromedriver                        0x00000001052096e8 chromedriver + 4232936\n13  chromedriver                        0x0000000105209864 chromedriver + 4233316\n14  chromedriver                        0x00000001052185b0 chromedriver + 4294064\n15  libsystem_pthread.dylib             0x00000001899d6f94 _pthread_start + 136\n16  libsystem_pthread.dylib             0x00000001899d1d34 thread_start + 8\n",
     "output_type": "error",
     "traceback": [
      "\u001b[0;31m---------------------------------------------------------------------------\u001b[0m",
      "\u001b[0;31mNoSuchElementException\u001b[0m                    Traceback (most recent call last)",
      "Cell \u001b[0;32mIn[17], line 2\u001b[0m\n\u001b[1;32m      1\u001b[0m \u001b[38;5;66;03m# (4) 리뷰 더 보기 클릭 => (라이브러리 코드 참고)\u001b[39;00m\n\u001b[0;32m----> 2\u001b[0m browser\u001b[38;5;241m.\u001b[39mfind_element(By\u001b[38;5;241m.\u001b[39mXPATH, \u001b[38;5;124m'\u001b[39m\u001b[38;5;124m//*[@id=\u001b[39m\u001b[38;5;124m\"\u001b[39m\u001b[38;5;124mow85\u001b[39m\u001b[38;5;124m\"\u001b[39m\u001b[38;5;124m]/section/header/div/div[2]/button\u001b[39m\u001b[38;5;124m'\u001b[39m)\u001b[38;5;241m.\u001b[39mclick()\n",
      "File \u001b[0;32m~/anaconda3/lib/python3.11/site-packages/selenium/webdriver/remote/webdriver.py:741\u001b[0m, in \u001b[0;36mWebDriver.find_element\u001b[0;34m(self, by, value)\u001b[0m\n\u001b[1;32m    738\u001b[0m     by \u001b[38;5;241m=\u001b[39m By\u001b[38;5;241m.\u001b[39mCSS_SELECTOR\n\u001b[1;32m    739\u001b[0m     value \u001b[38;5;241m=\u001b[39m \u001b[38;5;124mf\u001b[39m\u001b[38;5;124m'\u001b[39m\u001b[38;5;124m[name=\u001b[39m\u001b[38;5;124m\"\u001b[39m\u001b[38;5;132;01m{\u001b[39;00mvalue\u001b[38;5;132;01m}\u001b[39;00m\u001b[38;5;124m\"\u001b[39m\u001b[38;5;124m]\u001b[39m\u001b[38;5;124m'\u001b[39m\n\u001b[0;32m--> 741\u001b[0m \u001b[38;5;28;01mreturn\u001b[39;00m \u001b[38;5;28mself\u001b[39m\u001b[38;5;241m.\u001b[39mexecute(Command\u001b[38;5;241m.\u001b[39mFIND_ELEMENT, {\u001b[38;5;124m\"\u001b[39m\u001b[38;5;124musing\u001b[39m\u001b[38;5;124m\"\u001b[39m: by, \u001b[38;5;124m\"\u001b[39m\u001b[38;5;124mvalue\u001b[39m\u001b[38;5;124m\"\u001b[39m: value})[\u001b[38;5;124m\"\u001b[39m\u001b[38;5;124mvalue\u001b[39m\u001b[38;5;124m\"\u001b[39m]\n",
      "File \u001b[0;32m~/anaconda3/lib/python3.11/site-packages/selenium/webdriver/remote/webdriver.py:347\u001b[0m, in \u001b[0;36mWebDriver.execute\u001b[0;34m(self, driver_command, params)\u001b[0m\n\u001b[1;32m    345\u001b[0m response \u001b[38;5;241m=\u001b[39m \u001b[38;5;28mself\u001b[39m\u001b[38;5;241m.\u001b[39mcommand_executor\u001b[38;5;241m.\u001b[39mexecute(driver_command, params)\n\u001b[1;32m    346\u001b[0m \u001b[38;5;28;01mif\u001b[39;00m response:\n\u001b[0;32m--> 347\u001b[0m     \u001b[38;5;28mself\u001b[39m\u001b[38;5;241m.\u001b[39merror_handler\u001b[38;5;241m.\u001b[39mcheck_response(response)\n\u001b[1;32m    348\u001b[0m     response[\u001b[38;5;124m\"\u001b[39m\u001b[38;5;124mvalue\u001b[39m\u001b[38;5;124m\"\u001b[39m] \u001b[38;5;241m=\u001b[39m \u001b[38;5;28mself\u001b[39m\u001b[38;5;241m.\u001b[39m_unwrap_value(response\u001b[38;5;241m.\u001b[39mget(\u001b[38;5;124m\"\u001b[39m\u001b[38;5;124mvalue\u001b[39m\u001b[38;5;124m\"\u001b[39m, \u001b[38;5;28;01mNone\u001b[39;00m))\n\u001b[1;32m    349\u001b[0m     \u001b[38;5;28;01mreturn\u001b[39;00m response\n",
      "File \u001b[0;32m~/anaconda3/lib/python3.11/site-packages/selenium/webdriver/remote/errorhandler.py:229\u001b[0m, in \u001b[0;36mErrorHandler.check_response\u001b[0;34m(self, response)\u001b[0m\n\u001b[1;32m    227\u001b[0m         alert_text \u001b[38;5;241m=\u001b[39m value[\u001b[38;5;124m\"\u001b[39m\u001b[38;5;124malert\u001b[39m\u001b[38;5;124m\"\u001b[39m]\u001b[38;5;241m.\u001b[39mget(\u001b[38;5;124m\"\u001b[39m\u001b[38;5;124mtext\u001b[39m\u001b[38;5;124m\"\u001b[39m)\n\u001b[1;32m    228\u001b[0m     \u001b[38;5;28;01mraise\u001b[39;00m exception_class(message, screen, stacktrace, alert_text)  \u001b[38;5;66;03m# type: ignore[call-arg]  # mypy is not smart enough here\u001b[39;00m\n\u001b[0;32m--> 229\u001b[0m \u001b[38;5;28;01mraise\u001b[39;00m exception_class(message, screen, stacktrace)\n",
      "\u001b[0;31mNoSuchElementException\u001b[0m: Message: no such element: Unable to locate element: {\"method\":\"xpath\",\"selector\":\"//*[@id=\"ow85\"]/section/header/div/div[2]/button\"}\n  (Session info: chrome=123.0.6312.107); For documentation on this error, please visit: https://www.selenium.dev/documentation/webdriver/troubleshooting/errors#no-such-element-exception\nStacktrace:\n0   chromedriver                        0x0000000105220474 chromedriver + 4326516\n1   chromedriver                        0x000000010521893c chromedriver + 4294972\n2   chromedriver                        0x0000000104e44088 chromedriver + 278664\n3   chromedriver                        0x0000000104e86a80 chromedriver + 551552\n4   chromedriver                        0x0000000104ebf4f8 chromedriver + 783608\n5   chromedriver                        0x0000000104e7b4e4 chromedriver + 505060\n6   chromedriver                        0x0000000104e7bf5c chromedriver + 507740\n7   chromedriver                        0x00000001051e3a10 chromedriver + 4078096\n8   chromedriver                        0x00000001051e87c8 chromedriver + 4097992\n9   chromedriver                        0x00000001051ca5b4 chromedriver + 3974580\n10  chromedriver                        0x00000001051e90e0 chromedriver + 4100320\n11  chromedriver                        0x00000001051bbba4 chromedriver + 3914660\n12  chromedriver                        0x00000001052096e8 chromedriver + 4232936\n13  chromedriver                        0x0000000105209864 chromedriver + 4233316\n14  chromedriver                        0x00000001052185b0 chromedriver + 4294064\n15  libsystem_pthread.dylib             0x00000001899d6f94 _pthread_start + 136\n16  libsystem_pthread.dylib             0x00000001899d1d34 thread_start + 8\n"
     ]
    }
   ],
   "source": [
    "# (4) 리뷰 더 보기 클릭 => (라이브러리 코드 참고)\n",
    "browser.find_element(By.XPATH, '//*[@id=\"yDmH0d\"]/c-wiz[2]/div/div/div[1]/div/div[2]/div/div[1]/div[1]/c-wiz[5]/section/header/div/div[2]/button').click()"
   ]
  },
  {
   "cell_type": "code",
   "execution_count": 40,
   "id": "25f46816",
   "metadata": {},
   "outputs": [],
   "source": [
    "# (5) 리뷰 스크롤 => JS // 검색 => 적용\n",
    "\n",
    "# 모달창을 클릭한다.\n",
    "browser.find_element(By.CLASS_NAME, 'fysCi').click()"
   ]
  },
  {
   "cell_type": "code",
   "execution_count": 74,
   "id": "9227c9ca",
   "metadata": {},
   "outputs": [],
   "source": [
    "# javascript코드를 통해서 스크롤을 내려준다. (네이버 로그인)\n",
    "modal_elem = browser.find_element(By.CLASS_NAME, 'fysCi')\n",
    "\n",
    "\n",
    "import time\n",
    "for i in range(3):\n",
    "    js_code = 'arguments[0].scrollTo(0, arguments[0].scrollHeight)'\n",
    "    browser.execute_script(js_code, modal_elem)\n",
    "    time.sleep(1)"
   ]
  },
  {
   "cell_type": "code",
   "execution_count": 72,
   "id": "3920dbb6",
   "metadata": {
    "collapsed": true
   },
   "outputs": [
    {
     "name": "stdout",
     "output_type": "stream",
     "text": [
      "2024년 1월 21일\n",
      "2024년 1월 19일\n",
      "2024년 3월 24일\n",
      "2024년 2월 22일\n",
      "2024년 4월 6일\n",
      "2024년 1월 25일\n",
      "2024년 3월 22일\n",
      "2024년 1월 22일\n",
      "2024년 1월 22일\n",
      "2024년 2월 27일\n",
      "2024년 4월 5일\n",
      "2024년 3월 15일\n",
      "2024년 1월 20일\n",
      "2023년 10월 30일\n",
      "2024년 3월 14일\n",
      "2024년 4월 2일\n",
      "2024년 1월 31일\n",
      "2024년 3월 11일\n",
      "2024년 3월 1일\n",
      "2024년 2월 21일\n",
      "2024년 1월 21일\n",
      "2024년 2월 17일\n",
      "2024년 2월 19일\n",
      "2024년 2월 26일\n",
      "2024년 3월 2일\n",
      "2023년 11월 22일\n",
      "2023년 12월 16일\n",
      "2023년 12월 31일\n",
      "2023년 11월 7일\n",
      "2024년 1월 9일\n",
      "2023년 11월 9일\n",
      "2024년 1월 15일\n",
      "2023년 11월 4일\n",
      "2024년 3월 10일\n",
      "2024년 2월 23일\n",
      "2024년 2월 11일\n",
      "2023년 11월 28일\n",
      "2024년 2월 20일\n",
      "2023년 2월 9일\n",
      "2024년 1월 26일\n",
      "2024년 3월 27일\n",
      "2024년 2월 9일\n",
      "2022년 3월 22일\n",
      "2022년 9월 7일\n",
      "2024년 3월 23일\n",
      "2024년 3월 13일\n",
      "2024년 1월 8일\n",
      "2021년 8월 23일\n",
      "2023년 9월 18일\n",
      "2023년 4월 4일\n",
      "2023년 2월 1일\n",
      "2022년 10월 2일\n",
      "2022년 8월 21일\n",
      "2021년 4월 2일\n",
      "2021년 6월 10일\n",
      "2021년 12월 13일\n",
      "2021년 5월 6일\n",
      "2023년 4월 6일\n",
      "2020년 7월 20일\n",
      "2022년 8월 1일\n",
      "2022년 1월 18일\n",
      "2024년 3월 8일\n",
      "2023년 7월 14일\n",
      "2020년 7월 21일\n",
      "2024년 3월 16일\n",
      "2020년 10월 22일\n",
      "2023년 6월 1일\n",
      "2024년 1월 12일\n",
      "2024년 1월 10일\n",
      "2024년 1월 15일\n",
      "2024년 1월 10일\n",
      "2020년 7월 12일\n",
      "2024년 3월 13일\n",
      "2024년 3월 12일\n",
      "2024년 3월 27일\n",
      "2024년 1월 19일\n",
      "2024년 2월 13일\n",
      "2024년 1월 14일\n",
      "2024년 1월 13일\n",
      "2024년 2월 22일\n"
     ]
    }
   ],
   "source": [
    "datas = browser.find_elements(By.CLASS_NAME, 'RHo1pe')\n",
    "\n",
    "data_list = []\n",
    "\n",
    "# 작성자명, 별표 갯수, 작성일, 작성 내용\n",
    "for data in datas:\n",
    "    username = data.find_element(By.CLASS_NAME, 'X5PpBb').text\n",
    "    rank = data.find_element(By.CLASS_NAME, 'iXRFPc').get_attribute('aria-label')[10:11]\n",
    "    date = data.find_element(By.CLASS_NAME, 'bp9Aid').text\n",
    "    content = data.find_element(By.CLASS_NAME, 'h3YV2d').text\n",
    "    \n",
    "    data_list.append({\n",
    "        '유저명': username,\n",
    "        '별표': rank,\n",
    "        '작성일': date,\n",
    "        '작성내용': content\n",
    "    })\n",
    "    \n",
    "    # 30분 -> SRT (연봉 4천만원) 5명 => 6시간(시급: 100000원)\n",
    "    # Android SDK + Web SDK + Flutter SDK"
   ]
  },
  {
   "cell_type": "code",
   "execution_count": 60,
   "id": "e1921ea6",
   "metadata": {},
   "outputs": [
    {
     "data": {
      "text/plain": [
       "'3'"
      ]
     },
     "execution_count": 60,
     "metadata": {},
     "output_type": "execute_result"
    }
   ],
   "source": [
    "txt = '별표 5개 만점에 3개를 받았습니다.'\n",
    "# txt.split(' ')\n",
    "txt[10:11]"
   ]
  },
  {
   "cell_type": "code",
   "execution_count": 71,
   "id": "6701bb6b",
   "metadata": {},
   "outputs": [],
   "source": [
    "import pandas as pd\n",
    "\n",
    "df = pd.DataFrame(data_list) # 백엔드<->머신러닝 엔지니어<->데이터엔지니어\n",
    "df.to_csv(\"google_playstore.csv\", encoding='utf-8-sig')"
   ]
  },
  {
   "cell_type": "code",
   "execution_count": 79,
   "id": "7217867c",
   "metadata": {},
   "outputs": [
    {
     "name": "stdout",
     "output_type": "stream",
     "text": [
      "1\n"
     ]
    }
   ],
   "source": [
    "txt = 'Rated 1 stars out of five stars'\n",
    "rating = txt.split(' ')[1]\n",
    "    \n",
    "print(rating)"
   ]
  },
  {
   "cell_type": "code",
   "execution_count": null,
   "id": "2378467f",
   "metadata": {},
   "outputs": [],
   "source": []
  }
 ],
 "metadata": {
  "kernelspec": {
   "display_name": "Python 3 (ipykernel)",
   "language": "python",
   "name": "python3"
  },
  "language_info": {
   "codemirror_mode": {
    "name": "ipython",
    "version": 3
   },
   "file_extension": ".py",
   "mimetype": "text/x-python",
   "name": "python",
   "nbconvert_exporter": "python",
   "pygments_lexer": "ipython3",
   "version": "3.11.3"
  }
 },
 "nbformat": 4,
 "nbformat_minor": 5
}
