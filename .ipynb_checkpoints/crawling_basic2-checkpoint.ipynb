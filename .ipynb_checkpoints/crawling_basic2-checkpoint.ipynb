{
 "cells": [
  {
   "cell_type": "markdown",
   "id": "c22a7e9a",
   "metadata": {},
   "source": [
    "## Selenium 기초"
   ]
  },
  {
   "cell_type": "markdown",
   "id": "2a5a36ca",
   "metadata": {},
   "source": [
    "### 라이브러리 설치"
   ]
  },
  {
   "cell_type": "code",
   "execution_count": 1,
   "id": "7892d155",
   "metadata": {},
   "outputs": [],
   "source": [
    "# 목적: 인터넷 상의 데이터 수집\n",
    "# Library: selenium, webdriver-manager"
   ]
  },
  {
   "cell_type": "code",
   "execution_count": 2,
   "id": "0b7bce07",
   "metadata": {},
   "outputs": [
    {
     "name": "stdout",
     "output_type": "stream",
     "text": [
      "Requirement already satisfied: selenium in /Users/inseop/opt/anaconda3/lib/python3.9/site-packages (4.12.0)\n",
      "Requirement already satisfied: certifi>=2021.10.8 in /Users/inseop/opt/anaconda3/lib/python3.9/site-packages (from selenium) (2023.7.22)\n",
      "Requirement already satisfied: urllib3[socks]<3,>=1.26 in /Users/inseop/opt/anaconda3/lib/python3.9/site-packages (from selenium) (1.26.11)\n",
      "Requirement already satisfied: trio~=0.17 in /Users/inseop/opt/anaconda3/lib/python3.9/site-packages (from selenium) (0.22.0)\n",
      "Requirement already satisfied: trio-websocket~=0.9 in /Users/inseop/opt/anaconda3/lib/python3.9/site-packages (from selenium) (0.9.2)\n",
      "Requirement already satisfied: attrs>=19.2.0 in /Users/inseop/opt/anaconda3/lib/python3.9/site-packages (from trio~=0.17->selenium) (21.4.0)\n",
      "Requirement already satisfied: sniffio in /Users/inseop/opt/anaconda3/lib/python3.9/site-packages (from trio~=0.17->selenium) (1.2.0)\n",
      "Requirement already satisfied: idna in /Users/inseop/opt/anaconda3/lib/python3.9/site-packages (from trio~=0.17->selenium) (3.3)\n",
      "Requirement already satisfied: exceptiongroup>=1.0.0rc9 in /Users/inseop/opt/anaconda3/lib/python3.9/site-packages (from trio~=0.17->selenium) (1.1.0)\n",
      "Requirement already satisfied: sortedcontainers in /Users/inseop/opt/anaconda3/lib/python3.9/site-packages (from trio~=0.17->selenium) (2.4.0)\n",
      "Requirement already satisfied: async-generator>=1.9 in /Users/inseop/opt/anaconda3/lib/python3.9/site-packages (from trio~=0.17->selenium) (1.10)\n",
      "Requirement already satisfied: outcome in /Users/inseop/opt/anaconda3/lib/python3.9/site-packages (from trio~=0.17->selenium) (1.2.0)\n",
      "Requirement already satisfied: wsproto>=0.14 in /Users/inseop/opt/anaconda3/lib/python3.9/site-packages (from trio-websocket~=0.9->selenium) (1.2.0)\n",
      "Requirement already satisfied: PySocks!=1.5.7,<2.0,>=1.5.6 in /Users/inseop/opt/anaconda3/lib/python3.9/site-packages (from urllib3[socks]<3,>=1.26->selenium) (1.7.1)\n",
      "Requirement already satisfied: h11<1,>=0.9.0 in /Users/inseop/opt/anaconda3/lib/python3.9/site-packages (from wsproto>=0.14->trio-websocket~=0.9->selenium) (0.14.0)\n"
     ]
    }
   ],
   "source": [
    "!pip install selenium\n",
    "# VSC: %pip install selenium\n",
    "# VSC: %pip install selenium --user"
   ]
  },
  {
   "cell_type": "code",
   "execution_count": 6,
   "id": "7443e042",
   "metadata": {
    "scrolled": false
   },
   "outputs": [
    {
     "name": "stdout",
     "output_type": "stream",
     "text": [
      "Requirement already satisfied: webdriver-manager in /Users/inseop/opt/anaconda3/lib/python3.9/site-packages (4.0.0)\r\n",
      "Requirement already satisfied: python-dotenv in /Users/inseop/opt/anaconda3/lib/python3.9/site-packages (from webdriver-manager) (1.0.0)\r\n",
      "Requirement already satisfied: requests in /Users/inseop/opt/anaconda3/lib/python3.9/site-packages (from webdriver-manager) (2.28.1)\r\n",
      "Requirement already satisfied: packaging in /Users/inseop/opt/anaconda3/lib/python3.9/site-packages (from webdriver-manager) (21.3)\r\n",
      "Requirement already satisfied: pyparsing!=3.0.5,>=2.0.2 in /Users/inseop/opt/anaconda3/lib/python3.9/site-packages (from packaging->webdriver-manager) (3.0.9)\r\n",
      "Requirement already satisfied: urllib3<1.27,>=1.21.1 in /Users/inseop/opt/anaconda3/lib/python3.9/site-packages (from requests->webdriver-manager) (1.26.11)\r\n",
      "Requirement already satisfied: charset-normalizer<3,>=2 in /Users/inseop/opt/anaconda3/lib/python3.9/site-packages (from requests->webdriver-manager) (2.0.4)\r\n",
      "Requirement already satisfied: certifi>=2017.4.17 in /Users/inseop/opt/anaconda3/lib/python3.9/site-packages (from requests->webdriver-manager) (2023.7.22)\r\n",
      "Requirement already satisfied: idna<4,>=2.5 in /Users/inseop/opt/anaconda3/lib/python3.9/site-packages (from requests->webdriver-manager) (3.3)\r\n"
     ]
    }
   ],
   "source": [
    "!pip install webdriver-manager #chrome driver"
   ]
  },
  {
   "cell_type": "code",
   "execution_count": 4,
   "id": "f083fe0f",
   "metadata": {},
   "outputs": [],
   "source": [
    "# (인웅)\n",
    "# vsc로 주피터 하는데 ERROR: Could not install packages due to an EnvironmentError: \n",
    "# [WinError 5] Access is denied 이 오류 때문에 설치가 안되네요\n",
    "\n",
    "# Access is denied => 권한문제\n",
    "# VSC를 관리자 권한으로 실행\n",
    "\n",
    "# (재명)\n",
    "# 주피터 노트북을 사용하는 이유가 있을까요? pip install 같은 명령어는 cmd 창에서도 먹는거 같아서요~ => 편하잖아요?"
   ]
  },
  {
   "cell_type": "markdown",
   "id": "06d75f1c",
   "metadata": {},
   "source": [
    "### 라이브러리 import"
   ]
  },
  {
   "cell_type": "code",
   "execution_count": 5,
   "id": "2a47580a",
   "metadata": {},
   "outputs": [],
   "source": [
    "from selenium import webdriver\n",
    "from webdriver_manager.chrome import ChromeDriverManager"
   ]
  },
  {
   "cell_type": "code",
   "execution_count": 7,
   "id": "ad545182",
   "metadata": {},
   "outputs": [],
   "source": [
    "# 쥬피터 노트북이 안열린다.\n",
    "# conda prompt -> jupyter notebook -> 터미널에서 실행했는데 안되 -> 이유를 알려줘요."
   ]
  },
  {
   "cell_type": "code",
   "execution_count": 8,
   "id": "d3106e98",
   "metadata": {},
   "outputs": [
    {
     "data": {
      "text/plain": [
       "'/Users/inseop/.wdm/drivers/chromedriver/mac64/123.0.6312.106/chromedriver-mac-x64/chromedriver'"
      ]
     },
     "execution_count": 8,
     "metadata": {},
     "output_type": "execute_result"
    }
   ],
   "source": [
    "ChromeDriverManager().install()\n",
    "# 내 컴퓨터에 chrome driver를 자동으로 다운받아 줍니다."
   ]
  },
  {
   "cell_type": "code",
   "execution_count": 14,
   "id": "14406257",
   "metadata": {},
   "outputs": [],
   "source": [
    "browser = webdriver.Chrome() # 절대경로: 같은 폴더에 위치해도 됩니다."
   ]
  },
  {
   "cell_type": "code",
   "execution_count": 15,
   "id": "fe86245d",
   "metadata": {},
   "outputs": [],
   "source": [
    "url = 'https://www.naver.com'\n",
    "browser.get(url)"
   ]
  },
  {
   "cell_type": "code",
   "execution_count": 16,
   "id": "b5a67799",
   "metadata": {},
   "outputs": [
    {
     "data": {
      "text/plain": [
       "'NAVER'"
      ]
     },
     "execution_count": 16,
     "metadata": {},
     "output_type": "execute_result"
    }
   ],
   "source": [
    "browser.title"
   ]
  },
  {
   "cell_type": "code",
   "execution_count": 18,
   "id": "92cf3956",
   "metadata": {},
   "outputs": [],
   "source": [
    "# 크롤링을 하려면 요소(element)를 잘 찾아야해요.\n",
    "from selenium.webdriver.common.by import By\n",
    "browser.find_element(By.CLASS_NAME, 'search_input').click()"
   ]
  },
  {
   "cell_type": "code",
   "execution_count": 19,
   "id": "e9811b65",
   "metadata": {},
   "outputs": [],
   "source": [
    "browser.find_element(By.CLASS_NAME, 'search_input').send_keys('날씨')"
   ]
  },
  {
   "cell_type": "code",
   "execution_count": 20,
   "id": "349afced",
   "metadata": {},
   "outputs": [],
   "source": [
    "browser.find_element(By.CLASS_NAME, 'btn_search').click()"
   ]
  },
  {
   "cell_type": "code",
   "execution_count": 24,
   "id": "4af096ab",
   "metadata": {},
   "outputs": [
    {
     "data": {
      "text/plain": [
       "'17.0°'"
      ]
     },
     "execution_count": 24,
     "metadata": {},
     "output_type": "execute_result"
    }
   ],
   "source": [
    "# 하나의 데이터 가져오기 => 멀티 데이터 가져오기 (for)\n",
    "temp = browser.find_element(By.CLASS_NAME, 'temperature_text').text\n",
    "temp.split('\\n')[1]"
   ]
  },
  {
   "cell_type": "code",
   "execution_count": 27,
   "id": "190df175",
   "metadata": {},
   "outputs": [
    {
     "data": {
      "text/plain": [
       "['체감', '17.0°', '강수', '0.1mm', '습도', '70%', '동풍', '1m/s']"
      ]
     },
     "execution_count": 27,
     "metadata": {},
     "output_type": "execute_result"
    }
   ],
   "source": [
    "# 체감, 습도, 풍향\n",
    "data = browser.find_element(By.CLASS_NAME, 'summary_list').text\n",
    "data.split(\" \")"
   ]
  },
  {
   "cell_type": "code",
   "execution_count": 28,
   "id": "ee756a18",
   "metadata": {},
   "outputs": [],
   "source": [
    "# 네이버 부동산 => 최근 실거래 데이터"
   ]
  },
  {
   "cell_type": "code",
   "execution_count": 29,
   "id": "70853092",
   "metadata": {},
   "outputs": [],
   "source": [
    "# 브라우저 꺼짐 방지 옵션\n",
    "# from selenium.webdriver.chrome.service import Service\n",
    "# from selenium.webdriver.common.by import By\n",
    "\n",
    "# import time\n",
    "\n",
    "# chrome_options = webdriver.ChromeOptions()\n",
    "\n",
    "# # 브라우저 꺼짐 방지 옵션\n",
    "# chrome_options.add_experimental_option(\"detach\", True)\n",
    "# browser = webdriver.Chrome(service=Service(ChromeDriverManager().install()), options=chrome_options)\n",
    "\n",
    "# 브라우저 창 꺼짐현상\n",
    "# 작업관리자 열어서 nprotect online 실행되고 있는지 확인하시고, 실행되고 있으면 지워버리시면 됩니다."
   ]
  },
  {
   "cell_type": "code",
   "execution_count": 30,
   "id": "f0a417e4",
   "metadata": {},
   "outputs": [],
   "source": [
    "url = 'https://new.land.naver.com/complexes/111515?ms=37.497624,127.107268,17&a=APT:ABYG:JGC:PRE&e=RETAIL&ad=true'\n",
    "browser.get(url)"
   ]
  },
  {
   "cell_type": "code",
   "execution_count": 33,
   "id": "4c5e6542",
   "metadata": {},
   "outputs": [
    {
     "data": {
      "text/plain": [
       "'20억 3,000'"
      ]
     },
     "execution_count": 33,
     "metadata": {},
     "output_type": "execute_result"
    }
   ],
   "source": [
    "browser.find_element(By.CLASS_NAME, 'complex_price--trade').find_element(By.CLASS_NAME, 'data').text"
   ]
  },
  {
   "cell_type": "code",
   "execution_count": 34,
   "id": "0de6ed26",
   "metadata": {},
   "outputs": [],
   "source": [
    "# 파이썬 프로젝트\n",
    "# (1) 크롤링을 통해서 정보를 수집하는 나만의 데이터 파이프라인 구축하기\n",
    "# - EC2 => 13대 (정보를 수집하는 녀석, 퀀트)\n",
    "\n",
    "# (금) => 크롤링(멀티), 공공데이터 API"
   ]
  },
  {
   "cell_type": "code",
   "execution_count": 36,
   "id": "b541181e",
   "metadata": {},
   "outputs": [
    {
     "data": {
      "text/plain": [
       "'20억 3,000'"
      ]
     },
     "execution_count": 36,
     "metadata": {},
     "output_type": "execute_result"
    }
   ],
   "source": [
    "browser.find_element(By.CLASS_NAME, 'data').text"
   ]
  },
  {
   "cell_type": "code",
   "execution_count": 1,
   "id": "874799ad",
   "metadata": {},
   "outputs": [],
   "source": [
    "# 구글 뉴스 크롤링 => AI(자동화) => 자동화(트렌드)\n",
    "# 구글 데일리 트랜드 \n",
    "# DB PIA 논문 크롤링\n",
    "# SRT 예매 자동화\n",
    "# 슬랙봇 연동"
   ]
  },
  {
   "cell_type": "markdown",
   "id": "dc0513c6",
   "metadata": {},
   "source": [
    "## 구글 뉴스 크롤링"
   ]
  },
  {
   "cell_type": "code",
   "execution_count": 2,
   "id": "f7e604f6",
   "metadata": {},
   "outputs": [],
   "source": [
    "from selenium import webdriver\n",
    "from selenium.webdriver.common.by import By"
   ]
  },
  {
   "cell_type": "code",
   "execution_count": 3,
   "id": "cc3d666a",
   "metadata": {},
   "outputs": [],
   "source": [
    "browser = webdriver.Chrome() # 크롬 브라우저 창 실행"
   ]
  },
  {
   "cell_type": "code",
   "execution_count": 4,
   "id": "d27b0885",
   "metadata": {},
   "outputs": [],
   "source": [
    "url = 'https://www.google.com/search?q=%EC%9D%B8%EA%B3%B5%EC%A7%80%EB%8A%A5+%EC%B1%97%EB%B4%87&sca_esv=30c375223fbe6df1&biw=1563&bih=906&tbm=nws&ei=_lIPZsnRPN7q1e8P3MWz6AI&udm=&ved=0ahUKEwjJyK2h9amFAxVedfUHHdziDC0Q4dUDCA0&uact=5&oq=%EC%9D%B8%EA%B3%B5%EC%A7%80%EB%8A%A5+%EC%B1%97%EB%B4%87&gs_lp=Egxnd3Mtd2l6LW5ld3MiE-yduOqzteyngOuKpSDssZfrtIcyCxAAGIAEGLEDGIMBMgUQABiABDIFEAAYgAQyBRAAGIAEMgUQABiABDIFEAAYgAQyBRAAGIAEMgUQABiABDIFEAAYgAQyBRAAGIAESMkOUJUCWOENcAB4AJABAJgBmgGgAfIIqgEDMC44uAEDyAEA-AEBmAIDoAKTA8ICChAAGIAEGIoFGEPCAgQQABgewgIGEAAYBRgemAMAiAYBkgcDMC4zoAfJLw&sclient=gws-wiz-news'\n",
    "browser.get(url)"
   ]
  },
  {
   "cell_type": "code",
   "execution_count": 7,
   "id": "b3c33269",
   "metadata": {},
   "outputs": [
    {
     "data": {
      "text/plain": [
       "'채널톡, 생성 AI 챗봇 \\'알프\\' 출시...\"CS 단순문의 55% 해결\"'"
      ]
     },
     "execution_count": 7,
     "metadata": {},
     "output_type": "execute_result"
    }
   ],
   "source": [
    "# 뉴스 제목\n",
    "browser.find_element(By.CLASS_NAME, 'n0jPhd').text # text => 변수"
   ]
  },
  {
   "cell_type": "code",
   "execution_count": 23,
   "id": "af939af4",
   "metadata": {},
   "outputs": [
    {
     "data": {
      "text/plain": [
       "'1일 전'"
      ]
     },
     "execution_count": 23,
     "metadata": {},
     "output_type": "execute_result"
    }
   ],
   "source": [
    "# 언론사\n",
    "company = browser.find_element(By.CLASS_NAME, 'MgUUmf').text\n",
    "company\n",
    "\n",
    "# 내용\n",
    "content = browser.find_element(By.CLASS_NAME, 'GI74Re').text\n",
    "content\n",
    "\n",
    "# 작성일\n",
    "created_at = browser.find_element(By.CLASS_NAME, 'rbYSKb').text\n",
    "created_at"
   ]
  },
  {
   "cell_type": "code",
   "execution_count": 29,
   "id": "0d41e76e",
   "metadata": {},
   "outputs": [
    {
     "name": "stdout",
     "output_type": "stream",
     "text": [
      "채널톡, 생성 AI 챗봇 '알프' 출시...\"CS 단순문의 55% 해결\"\n",
      "채널톡, 단순·반복 문의 답하는 ‘AI 챗봇’ 상반기 출시 - 조선비즈\n",
      "구글, 검색 유료화 '만지작'… 판도 흔드나\n",
      "마이크로소프트, 엑스박스 애니메이션 AI 챗봇 개발\n",
      "기업용 챗GPT 가입자 석 달 만에 4배 급증\n",
      "'AI 행정혁신'에 2000억 쏟아붓는 서울시..인공지능 챗봇·CCTV 나온다\n",
      "세종시, 전자증명-AI챗봇으로 ‘민원혁신’\n",
      "챗GPT에 235조 검색광고 날아갈 판…구글 \"AI 검색 돈 내야\" [팩플]\n",
      "생성 AI가 고객 문의 처리…채널톡 커머스 산업 AX 이끌 것\n",
      "인공지능 챗봇이 검색엔진 빠르게 대체, 가트너 \"2026년 검색량 25% 축소\"\n"
     ]
    }
   ],
   "source": [
    "# find_element => 요소를 찾아줘.\n",
    "# find_elements => 요소들을 찾아줘. => return: []\n",
    "\n",
    "news_list = browser.find_elements(By.CLASS_NAME, 'n0jPhd')\n",
    "# [Element, Element, Element ...]\n",
    "\n",
    "for elem in news_list:\n",
    "    print(elem.text)"
   ]
  },
  {
   "cell_type": "code",
   "execution_count": 35,
   "id": "fe444bda",
   "metadata": {},
   "outputs": [
    {
     "name": "stdout",
     "output_type": "stream",
     "text": [
      "AI타임스\n",
      "Chosunbiz\n",
      "매일경제\n",
      "더구루\n",
      "뉴스핌\n",
      "머니투데이\n",
      "동아일보\n",
      "MSN\n",
      "아주경제\n",
      "비즈니스포스트\n"
     ]
    }
   ],
   "source": [
    "company_list = browser.find_elements(By.CLASS_NAME, 'MgUUmf')\n",
    "\n",
    "for elem in company_list:\n",
    "    print(elem.text)"
   ]
  },
  {
   "cell_type": "code",
   "execution_count": 63,
   "id": "2b4d44eb",
   "metadata": {},
   "outputs": [
    {
     "name": "stdout",
     "output_type": "stream",
     "text": [
      "Requirement already satisfied: pandas in /Users/inseop/opt/anaconda3/lib/python3.9/site-packages (1.4.4)\r\n",
      "Requirement already satisfied: python-dateutil>=2.8.1 in /Users/inseop/opt/anaconda3/lib/python3.9/site-packages (from pandas) (2.8.2)\r\n",
      "Requirement already satisfied: pytz>=2020.1 in /Users/inseop/opt/anaconda3/lib/python3.9/site-packages (from pandas) (2022.1)\r\n",
      "Requirement already satisfied: numpy>=1.18.5 in /Users/inseop/opt/anaconda3/lib/python3.9/site-packages (from pandas) (1.24.2)\r\n",
      "Requirement already satisfied: six>=1.5 in /Users/inseop/opt/anaconda3/lib/python3.9/site-packages (from python-dateutil>=2.8.1->pandas) (1.16.0)\r\n"
     ]
    }
   ],
   "source": [
    "!pip install pandas # anaconda"
   ]
  },
  {
   "cell_type": "code",
   "execution_count": 67,
   "id": "36433786",
   "metadata": {},
   "outputs": [],
   "source": [
    "import pandas as pd"
   ]
  },
  {
   "cell_type": "code",
   "execution_count": 71,
   "id": "9041b25b",
   "metadata": {},
   "outputs": [],
   "source": [
    "# 컨테이너 방식으로 일단 컨테이너들 가져오기\n",
    "\n",
    "data_list = []\n",
    "\n",
    "container_list = browser.find_elements(By.CLASS_NAME, 'SoaBEf')\n",
    "\n",
    "for elem in container_list:\n",
    "    title = elem.find_element(By.CLASS_NAME, 'n0jPhd').text\n",
    "    company = elem.find_element(By.CLASS_NAME, 'MgUUmf').text\n",
    "    content = elem.find_element(By.CLASS_NAME, 'GI74Re').text\n",
    "    created_at = elem.find_element(By.CLASS_NAME, 'rbYSKb').text\n",
    "    link = elem.find_element(By.CLASS_NAME, 'WlydOe').get_attribute('href')\n",
    "    \n",
    "    data_list.append({\n",
    "        '제목': title,\n",
    "        '언론사': company,\n",
    "        '내용': content,\n",
    "        '작성시간': created_at,\n",
    "        '링크': link\n",
    "    })\n",
    "#     print(title, company, created_at, link, '\\n')    \n",
    "# link까지 수집 후 // 판다스 -> 엑셀에 저장 // 예스24베스트셀러\n",
    "\n",
    "len(data_list)\n",
    "\n",
    "df = pd.DataFrame(data_list)\n",
    "df.to_csv('google_news.csv', encoding='utf-8-sig')"
   ]
  },
  {
   "cell_type": "code",
   "execution_count": 65,
   "id": "db6bc315",
   "metadata": {},
   "outputs": [
    {
     "name": "stdout",
     "output_type": "stream",
     "text": [
      "https://www.aitimes.com/news/articleView.html?idxno=158497\n"
     ]
    }
   ],
   "source": [
    "# 링크 => html: 링크데이터는 <a href='https://www.naver.com'/>\n",
    "# <div>뉴스 제목입니다.</div>\n",
    "url = browser.find_element(By.CLASS_NAME, 'WlydOe').get_attribute('href')\n",
    "print(url)"
   ]
  },
  {
   "cell_type": "code",
   "execution_count": 66,
   "id": "8df538c6",
   "metadata": {},
   "outputs": [
    {
     "name": "stdout",
     "output_type": "stream",
     "text": [
      "data:image/jpeg;base64,/9j/4AAQSkZJRgABAQAAAQABAAD/2wCEAAkGBwgHBgkIBwgKCgkLDRYPDQwMDRsUFRAWIB0iIiAdHx8kKDQsJCYxJx8fLT0tMTU3Ojo6Iys/RD84QzQ5OjcBCgoKDQwNGg8PGjclHyU3Nzc3Nzc3Nzc3Nzc3Nzc3Nzc3Nzc3Nzc3Nzc3Nzc3Nzc3Nzc3Nzc3Nzc3Nzc3Nzc3N//AABEIAFwAXAMBIgACEQEDEQH/xAAcAAABBQEBAQAAAAAAAAAAAAAEAAECAwUHBgj/xAA/EAABAwIEAgMNBQgDAAAAAAABAgMEABEFEiExE0EGUWEHFBUiMjRxcpGSocHRI1KBseFTgqKjsrPw8SRCVP/EABkBAAMBAQEAAAAAAAAAAAAAAAABAgQDBf/EAB8RAQEAAQQCAwAAAAAAAAAAAAABAgMREjEEUSEiQf/aAAwDAQACEQMRAD8A6kTTGlTGvQWY0hTVIUwQqQphVjjSmmi69Ztsala1BIA7b1NsgMKkKkllZsQAb7WUNfjVgjPfsz8Kjnj7CsU4qwR3v2Z9opihSVZVCxNLlD3MBUrVMMO/cNS4Lv3DU8oGaaasLoji7+L4e47MU3x0r8lFtEkC17fjvW7WgiFSFMBUgKQMTa1Bd0TGU4Lhccqid8JfkJGj3DKCnxwoGx5pFGr2Feb7s6HF4NhwatcSzf3FVm8i2bWFQEDugMqYIZwZpL7SQcpe0KUga5su4omF3S3pUuK03hqFIelIYKxKJCcygknydbX+Fc6wiFJLjjzo+yCS3YaFSjsAfj7KrwjjR+kOERmc6mvCDAKUJ5ZwbnqtrWX7dl8PpOgpRyyI4HNXzo2gZnncX1vpXXDsQpTSH0cJ2KpxAUTa/Pr37TVbUVpnPwYa051ZlWWdT7eynTGcWtVpk5AvzKLf01YYLhJPf8vU3tmTp/DUpl3eO6OO4OhvEU4QshlqRd8HxUtL4aSUgHybC1wdQbg63oyFjmGTmojsOY263MWpEdSb/aKSCVAegJO/VWDF6PYgcBxmGOFDfxF0ALzklLZQhCiRdVlWBAAJG21Tw3onLgYvGeE1t6GxMVKSFoyrBUwppSQEjKBfKdO2vQ3X8j19L8HbdLSnHwsSBGsphSbuEpFhcC/liiGOk2FPSWo7bzhdckqjJBYWAXElQIva3/RXOsSd0VW9iSXI+HMtxEvJWu0xfGdWFhXF1BTfxQCD4xB3FgKeF0WeZ6QnEjCSltRSkKTNUXk2JPEUbWN8x0Gvab2CHy9isbemqulsKLi8dtl5xaeA9rlHMp7R1Grljat2wI1FZtf8FciVhyI+KLZxEORMNaTdl/dKydypY0QfWA9NBYfGgwO6NHgvKUtmWpD0VaFjRY8YA6baK27K6L0zn4jARD8GqU2HFqDq0tBew0Gxtz5V5UY9joUCmS8AOqIi/wDbrppeFqauEyliLZHUKBmedxfW+lc9c6RdJbJ4cx7W980VOn8uvU9Hpc2bAgv4kSXy6sZijJmAVobWH5VWp4mejOWVgl3bjUUtuhebmTa6ufpNEpzW8YgnrAtQAiQg+HFFkqvbZN7n/dOvCILhBcjMrUBa5QKxm5rLkyRjywFPFwP5AUSVcMXUNCka9V9hptWnOfnFchTzD7cd6VH4CiryQl1CVAjlm3HWK9EYsdS86o7RXe+YoF7+mrihKxZaQoXBsoX1G1exl5Eu316OYpAVIUwFSArKtBzYVqzJBjMKdCCu1vFB7ay1jatOZxSyQwbOEi3+eis+t+JyB+FHdbxDcaeXvUmMVzgl1otjlub9ewqJbxDMqy9Lm17afCoZcRUo5VpIsNlJ39nprika1MQ44EJOp11SR+dQmedRvW+YqMdMsLBfNkgja2vwqUzzuN63zFVh2ISkxm3UKUlRUVWH2YOv4DSiEqFh4yvxpHjckN+8fp1UxMkeS2zbtWfpUhjipCs3Dscw/EZa4sR1ankNhxQLakixAI1PYoVqCt26yFSFIU4pGg5tR0TD24siS8244VPrzKzEab9nbzvpYcqCc2vVipjJJJfcSTrbLt2bVy1Jb0nJplJIsVEj0D6VBDCGyS2kJJ3ISBf4Vnd9x/8A0ue5+lWCdGsPtSf3D9K48MvRbVoZSd1E0JM87jet8xVAmMXH/IUdSbZP0qtchJcZUkqWls3JIteqxwy36GzZpUF4TijdavdNLwpF++r3DU8MvRbMGJg0KLLTKZbUHw3wyoqJzDTcbX05dZ660QKYVIVr6dDgU4FIU4pUEU3FVKjgnaiBTip32AYRR1Uu9R1UXSo5UBRFHVUwyALWq+lS5UBjGBO1N3sOqiqVPlQ//9k=\n"
     ]
    }
   ],
   "source": [
    "# 이미지 링크\n",
    "parent = browser.find_element(By.CLASS_NAME, 'uhHOwf')\n",
    "img_link = parent.find_element(By.TAG_NAME, 'img').get_attribute('src')\n",
    "print(img_link)"
   ]
  },
  {
   "cell_type": "code",
   "execution_count": null,
   "id": "825ef4ce",
   "metadata": {},
   "outputs": [],
   "source": [
    "# Q&A\n",
    "\n",
    "# UTF8이랑 UTF8-sig는 뭐가 다른거죠? # 파일을 읽거나 생성할 때 \n",
    "# - BOM => ...\n",
    "\n",
    "# csv파일 열고 있는 상태에서 실행하면 permission error나는데,\n",
    "# 어떤 원리 인지 여쭤봐도 될까요?\n",
    "# - 파일 쓰기 권한"
   ]
  },
  {
   "cell_type": "markdown",
   "id": "cd817b0d",
   "metadata": {},
   "source": [
    "## YES 24 베스트 셀러\n",
    "\n",
    "- 제목, 저자, 링크"
   ]
  },
  {
   "cell_type": "code",
   "execution_count": 72,
   "id": "a922fc1d",
   "metadata": {},
   "outputs": [],
   "source": [
    "url = 'https://www.yes24.com/Product/category/bestseller?CategoryNumber=001&sumgb=06'\n",
    "browser.get(url)"
   ]
  },
  {
   "cell_type": "code",
   "execution_count": 76,
   "id": "fcdde6eb",
   "metadata": {},
   "outputs": [
    {
     "data": {
      "text/plain": [
       "24"
      ]
     },
     "execution_count": 76,
     "metadata": {},
     "output_type": "execute_result"
    }
   ],
   "source": [
    "parent = browser.find_element(By.ID, 'yesBestList')\n",
    "book_container_list = parent.find_elements(By.CLASS_NAME, 'item_info')\n",
    "\n",
    "len(book_container_list)"
   ]
  },
  {
   "cell_type": "code",
   "execution_count": 77,
   "id": "f8e506b9",
   "metadata": {},
   "outputs": [],
   "source": [
    "# NRC: Nike Running Club\n",
    "# 5km 트랙 => 대부분의 사람들이 눈은 뜨고있는데, 몸은 자고있다.\n",
    "# 팔굽혀펴기 30개 => 자기계발 찬물 샤워 //\n",
    "# 생산성과의 싸움\n",
    "\n",
    "# 2시부터\n",
    "# - 예스24 베스트 셀러 수집\n",
    "# - DB PIA\n",
    "# - SRT 예매 자동화\n",
    "# - SLACK 봇 API\n",
    "# - 공공데이터 API"
   ]
  },
  {
   "cell_type": "code",
   "execution_count": 90,
   "id": "2925017d",
   "metadata": {},
   "outputs": [
    {
     "name": "stdout",
     "output_type": "stream",
     "text": [
      "모건 하우절 저/이수경 역\n",
      "와야마 야마 글그림/현승희 역\n",
      "사이토 다카시 저/정현 역\n",
      "마티아스 뇔케 저/이미옥 역\n",
      "류츠신 저/이현아, 허유영 역\n",
      "패트릭 브링리 저/김희정, 조현주 역\n",
      "백희나 저\n",
      "강용수 저\n",
      "세이노(SayNo) 저\n",
      "클레어 키건 저/홍한별 역\n",
      "ETS 저\n",
      "ETS 저\n",
      "김창완 저\n",
      "손원평 글/만물상 그림\n",
      "조승우 저\n",
      "강환국 저\n",
      "모건 하우절 저/이지연 역\n",
      "오평선 저\n",
      "프리드리히 니체 저/김신종 역\n",
      "전극진 글/양재현 그림\n",
      "여호원, 여호용 저\n",
      "황현필 저\n",
      "이은경 저\n",
      "임정민 글/히쩌미 그림\n"
     ]
    }
   ],
   "source": [
    "# (1) 책 제목 (2) 저자 (3) 출간일 (4) 가격 (5) 판매지수\n",
    "# 싱글 => 1페이지 => N페이지\n",
    "\n",
    "parent = browser.find_element(By.ID, 'yesBestList')\n",
    "book_list = parent.find_elements(By.CLASS_NAME, 'item_info')\n",
    "\n",
    "\n",
    "for book in book_list:\n",
    "    title = book.find_element(By.CLASS_NAME, 'gd_name').text\n",
    "    link = book.find_element(By.CLASS_NAME, 'gd_name').get_attribute('href')\n",
    "    author = book.find_element(By.CLASS_NAME, 'authPub').text\n",
    "    \n",
    "#     auth_sep = author.split('/') # list\n",
    "    \n",
    "#     translator = ''\n",
    "#     if len(auth_sep) == 2:\n",
    "#         translator = auth_sep[-1]        \n",
    "#         print(translator)\n",
    "\n",
    "    print(author)\n"
   ]
  },
  {
   "cell_type": "code",
   "execution_count": 85,
   "id": "ff2ea83c",
   "metadata": {},
   "outputs": [
    {
     "ename": "IndexError",
     "evalue": "list index out of range",
     "output_type": "error",
     "traceback": [
      "\u001b[0;31m---------------------------------------------------------------------------\u001b[0m",
      "\u001b[0;31mIndexError\u001b[0m                                Traceback (most recent call last)",
      "\u001b[0;32m/var/folders/yz/yncj9qh52mq6wk5p86v5p5lm0000gn/T/ipykernel_18034/340505316.py\u001b[0m in \u001b[0;36m<module>\u001b[0;34m\u001b[0m\n\u001b[1;32m      1\u001b[0m \u001b[0mtext\u001b[0m \u001b[0;34m=\u001b[0m \u001b[0;34m'김창완 저'\u001b[0m\u001b[0;34m\u001b[0m\u001b[0;34m\u001b[0m\u001b[0m\n\u001b[0;32m----> 2\u001b[0;31m \u001b[0mtext\u001b[0m\u001b[0;34m.\u001b[0m\u001b[0msplit\u001b[0m\u001b[0;34m(\u001b[0m\u001b[0;34m'/'\u001b[0m\u001b[0;34m)\u001b[0m\u001b[0;34m[\u001b[0m\u001b[0;36m1\u001b[0m\u001b[0;34m]\u001b[0m \u001b[0;31m# our of index\u001b[0m\u001b[0;34m\u001b[0m\u001b[0;34m\u001b[0m\u001b[0m\n\u001b[0m",
      "\u001b[0;31mIndexError\u001b[0m: list index out of range"
     ]
    }
   ],
   "source": [
    "text = '김창완 저' # ['김창완 저'] \n",
    "text.split('/')[1] # our of index"
   ]
  },
  {
   "cell_type": "code",
   "execution_count": 87,
   "id": "97eaa9ab",
   "metadata": {},
   "outputs": [],
   "source": [
    "# (1) split => 예외처리\n",
    "# (2) regex => 정규 표현식\n",
    "\n",
    "text = '프리드리히 니체 저'\n",
    "\n",
    "if '역' in text:\n",
    "    print(text.split('/')[1])"
   ]
  },
  {
   "cell_type": "code",
   "execution_count": 91,
   "id": "83ca7942",
   "metadata": {},
   "outputs": [],
   "source": [
    "# 1페이지 -> N페이지\n",
    "\n",
    "\n",
    "parent = browser.find_element(By.ID, 'yesBestList')\n",
    "book_list = parent.find_elements(By.CLASS_NAME, 'item_info')\n",
    "\n",
    "for book in book_list:\n",
    "    title = book.find_element(By.CLASS_NAME, 'gd_name').text\n",
    "    link = book.find_element(By.CLASS_NAME, 'gd_name').get_attribute('href')\n",
    "    author = book.find_element(By.CLASS_NAME, 'authPub').text"
   ]
  },
  {
   "cell_type": "code",
   "execution_count": 97,
   "id": "81d498d7",
   "metadata": {},
   "outputs": [
    {
     "name": "stdout",
     "output_type": "stream",
     "text": [
      "//*[@id=\"bestContentsWrap\"]/div[6]/div/div/div/a[1]\n",
      "//*[@id=\"bestContentsWrap\"]/div[6]/div/div/div/a[2]\n",
      "//*[@id=\"bestContentsWrap\"]/div[6]/div/div/div/a[3]\n"
     ]
    }
   ],
   "source": [
    "# //*[@id=\"bestContentsWrap\"]/div[6]/div/div/div/a[1] # 2페이지\n",
    "# //*[@id=\"bestContentsWrap\"]/div[6]/div/div/div/a[2] # 3페이지\n",
    "# //*[@id=\"bestContentsWrap\"]/div[6]/div/div/div/a[3] # 4페이지\n",
    "\n",
    "# 페이지 전환 (1)\n",
    "import time\n",
    "for i in range(1,4):\n",
    "    xpath = f'//*[@id=\"bestContentsWrap\"]/div[6]/div/div/div/a[{i}]'\n",
    "    print(xpath)\n",
    "    browser.find_element(By.XPATH, xpath).click()\n",
    "    \n",
    "    time.sleep(3)"
   ]
  },
  {
   "cell_type": "code",
   "execution_count": 106,
   "id": "3bc2c0ac",
   "metadata": {},
   "outputs": [],
   "source": [
    "# 페이지 전환\n",
    "import pandas as pd\n",
    "\n",
    "data_list = []\n",
    "for i in range(1,4):\n",
    "    url = f'https://www.yes24.com/Product/Category/BestSeller?categoryNumber=001&pageNumber={i}'\n",
    "    browser.get(url)\n",
    "    # 속도가 너무 빠른데 => 예스24: 어? 이 X키 뭐지? 사람이 아닌 거 같은데? => 차단\n",
    "    time.sleep(3)\n",
    "    \n",
    "    parent = browser.find_element(By.ID, 'yesBestList')\n",
    "    book_list = parent.find_elements(By.CLASS_NAME, 'item_info')\n",
    "\n",
    "    for book in book_list:\n",
    "        title = book.find_element(By.CLASS_NAME, 'gd_name').text\n",
    "        link = book.find_element(By.CLASS_NAME, 'gd_name').get_attribute('href')\n",
    "        author = book.find_element(By.CLASS_NAME, 'authPub').text\n",
    "        \n",
    "        data_list.append({\n",
    "            \"제목\": title, \"저자\": author, \"링크\": link, \"페이지\": i\n",
    "        })"
   ]
  },
  {
   "cell_type": "code",
   "execution_count": 110,
   "id": "0990eb89",
   "metadata": {},
   "outputs": [],
   "source": [
    "df = pd.DataFrame(data_list)\n",
    "df.to_csv('yes24_bestseller.csv', encoding='utf-8-sig')"
   ]
  },
  {
   "cell_type": "code",
   "execution_count": null,
   "id": "6534bb21",
   "metadata": {},
   "outputs": [],
   "source": []
  }
 ],
 "metadata": {
  "kernelspec": {
   "display_name": "Python 3 (ipykernel)",
   "language": "python",
   "name": "python3"
  },
  "language_info": {
   "codemirror_mode": {
    "name": "ipython",
    "version": 3
   },
   "file_extension": ".py",
   "mimetype": "text/x-python",
   "name": "python",
   "nbconvert_exporter": "python",
   "pygments_lexer": "ipython3",
   "version": "3.9.13"
  }
 },
 "nbformat": 4,
 "nbformat_minor": 5
}
