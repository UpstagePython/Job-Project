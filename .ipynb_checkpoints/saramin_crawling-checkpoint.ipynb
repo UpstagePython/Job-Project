{
 "cells": [
  {
   "cell_type": "code",
   "execution_count": 1,
   "id": "f358a635-0d5f-4c97-8635-f46d26831b3b",
   "metadata": {},
   "outputs": [],
   "source": [
    "from selenium import webdriver\n",
    "from webdriver_manager.chrome import ChromeDriverManager"
   ]
  },
  {
   "cell_type": "code",
   "execution_count": 2,
   "id": "71440864-120c-459a-bae9-b8749c7f446e",
   "metadata": {},
   "outputs": [
    {
     "data": {
      "text/plain": [
       "'/Users/seongmyeong-gi/.wdm/drivers/chromedriver/mac64/123.0.6312.105/chromedriver-mac-arm64/chromedriver'"
      ]
     },
     "execution_count": 2,
     "metadata": {},
     "output_type": "execute_result"
    }
   ],
   "source": [
    "ChromeDriverManager().install()"
   ]
  },
  {
   "cell_type": "code",
   "execution_count": 3,
   "id": "4cb027d1-7b3f-4392-b7b8-a51de319ed7d",
   "metadata": {},
   "outputs": [],
   "source": [
    "browser = webdriver.Chrome()"
   ]
  },
  {
   "cell_type": "code",
   "execution_count": 124,
   "id": "f779e250-0e86-4c65-a6df-e5f271752ca9",
   "metadata": {},
   "outputs": [],
   "source": [
    "# IT 수도권(신입)\n",
    "url = 'https://www.saramin.co.kr/zf_user/jobs/list/domestic?loc_mcd=101000%2C102000%2C108000&cat_mcls=2&exp_cd=1&panel_type=&search_optional_item=y&search_done=y&panel_count=y&preview=y'\n",
    "browser.get(url)"
   ]
  },
  {
   "cell_type": "code",
   "execution_count": 5,
   "id": "e32ddd15-7906-4744-aef4-036e14a6bb2a",
   "metadata": {},
   "outputs": [],
   "source": [
    "from selenium.webdriver.common.by import By"
   ]
  },
  {
   "cell_type": "code",
   "execution_count": 71,
   "id": "9eab9978-af7b-4819-a33a-d89efdb725e9",
   "metadata": {},
   "outputs": [
    {
     "data": {
      "text/plain": [
       "'(주)제우스'"
      ]
     },
     "execution_count": 71,
     "metadata": {},
     "output_type": "execute_result"
    }
   ],
   "source": [
    "# 회사명\n",
    "company = browser.find_element(By.CLASS_NAME, 'company_nm').text.split('\\n')[0]\n",
    "company"
   ]
  },
  {
   "cell_type": "code",
   "execution_count": 66,
   "id": "66538020-5f6f-476c-9952-d1079c108fc6",
   "metadata": {},
   "outputs": [
    {
     "data": {
      "text/plain": [
       "'(주)제우스 로봇개발팀 신입/경력 채용 공고(병역특례 전문연구요원 가능)'"
      ]
     },
     "execution_count": 66,
     "metadata": {},
     "output_type": "execute_result"
    }
   ],
   "source": [
    "# 직업명\n",
    "browser.find_element(By.CLASS_NAME, 'job_tit').text"
   ]
  },
  {
   "cell_type": "code",
   "execution_count": 25,
   "id": "7d5c6830-2bfa-4cf6-a5cc-809840190198",
   "metadata": {},
   "outputs": [
    {
     "name": "stdout",
     "output_type": "stream",
     "text": [
      "앱개발,웹개발,QA/테스터,SE(시스템엔지니어),네트워크 외\n"
     ]
    }
   ],
   "source": [
    "# 직업 상세태그\n",
    "job_sector = browser.find_element(By.CLASS_NAME, 'job_sector').text\n",
    "job_list = job_sector.split('\\n')\n",
    "\n",
    "if job_list[-1] == '외':\n",
    "    job_list.pop()  # '외' 제거\n",
    "    last_job = \" 외\"  # 마지막 직종으로 '외' 추가\n",
    "    # 이전 직종들과 함께 출력\n",
    "    print(','.join(job_list) + last_job)\n",
    "else:\n",
    "    print(','.join(job_list))"
   ]
  },
  {
   "cell_type": "code",
   "execution_count": 26,
   "id": "3af9a331-96b1-4baf-ba14-46a755da95ce",
   "metadata": {},
   "outputs": [
    {
     "data": {
      "text/plain": [
       "'경기전체 외'"
      ]
     },
     "execution_count": 26,
     "metadata": {},
     "output_type": "execute_result"
    }
   ],
   "source": [
    "# 장소\n",
    "browser.find_element(By.CLASS_NAME, 'work_place').text"
   ]
  },
  {
   "cell_type": "code",
   "execution_count": 27,
   "id": "2f344d95-edf8-4989-818c-d44e255c4025",
   "metadata": {},
   "outputs": [
    {
     "data": {
      "text/plain": [
       "'신입 · 경력 · 정규직'"
      ]
     },
     "execution_count": 27,
     "metadata": {},
     "output_type": "execute_result"
    }
   ],
   "source": [
    "# 경력\n",
    "browser.find_element(By.CLASS_NAME, 'career').text"
   ]
  },
  {
   "cell_type": "code",
   "execution_count": 28,
   "id": "568bcc8c-75db-428e-8e33-09d9805eebaf",
   "metadata": {},
   "outputs": [
    {
     "data": {
      "text/plain": [
       "'대학(2,3년)↑'"
      ]
     },
     "execution_count": 28,
     "metadata": {},
     "output_type": "execute_result"
    }
   ],
   "source": [
    "# 학력\n",
    "browser.find_element(By.CLASS_NAME, 'education').text"
   ]
  },
  {
   "cell_type": "code",
   "execution_count": 73,
   "id": "e4ff3807-4605-4632-82c6-eb314e9dabcb",
   "metadata": {},
   "outputs": [
    {
     "data": {
      "text/plain": [
       "'D-7'"
      ]
     },
     "execution_count": 73,
     "metadata": {},
     "output_type": "execute_result"
    }
   ],
   "source": [
    "# 마감일\n",
    "browser.find_element(By.CLASS_NAME, 'support_detail').text.split('\\n')[0]"
   ]
  },
  {
   "cell_type": "markdown",
   "id": "4588201b-d12d-4b30-9060-b36a7358c007",
   "metadata": {},
   "source": [
    "## 한번에 출력"
   ]
  },
  {
   "cell_type": "code",
   "execution_count": 74,
   "id": "8c2ad82b-c145-4faf-a446-f4f90c20f210",
   "metadata": {},
   "outputs": [
    {
     "name": "stdout",
     "output_type": "stream",
     "text": [
      "(주)제우스\n",
      "(주)제우스 로봇개발팀 신입/경력 채용 공고(병역특례 전문연구요원 가능)\n",
      "유지보수,정보보안,QA/테스터,SE(시스템엔지니어),네트워크 외\n",
      "경기 화성시\n",
      "경력 2년↑ · 정규직\n",
      "대학교(4년)↑\n",
      "내일마감\n"
     ]
    }
   ],
   "source": [
    "# 회사명\n",
    "company = browser.find_element(By.CLASS_NAME, 'company_nm').text.split('\\n')[0]\n",
    "\n",
    "# 직업명\n",
    "browser.find_element(By.CLASS_NAME, 'job_tit').text\n",
    "\n",
    "# 직업 상세태그\n",
    "job_sector = browser.find_element(By.CLASS_NAME, 'job_sector').text\n",
    "job_list = job_sector.split('\\n')\n",
    "\n",
    "if job_list[-1] == '외':\n",
    "    job_list.pop()  # '외' 제거\n",
    "    last_job = \" 외\"  # 마지막 직종으로 '외' 추가\n",
    "    # 이전 직종들과 함께 출력\n",
    "    Tags = ','.join(job_list) + last_job\n",
    "else:\n",
    "    Tags = ','.join(job_list)\n",
    "\n",
    "# 장소\n",
    "place = browser.find_element(By.CLASS_NAME, 'work_place').text\n",
    "\n",
    "# 경력\n",
    "career = browser.find_element(By.CLASS_NAME, 'career').text\n",
    "\n",
    "# 학력\n",
    "education = browser.find_element(By.CLASS_NAME, 'education').text\n",
    "\n",
    "# 마감일\n",
    "browser.find_element(By.CLASS_NAME, 'support_detail').text.split('\\n')[0]\n",
    "\n",
    "print(company, title, Tags, place, career, education, deadline, sep='\\n')"
   ]
  },
  {
   "cell_type": "code",
   "execution_count": 105,
   "id": "f656f661-91e9-44f4-ada5-433e032c1ff0",
   "metadata": {},
   "outputs": [
    {
     "data": {
      "text/plain": [
       "'https://www.saramin.co.kr/zf_user/jobs/relay/view?view_type=list&rec_idx=47869343&adsCategoryItem=effect_bold&'"
      ]
     },
     "execution_count": 105,
     "metadata": {},
     "output_type": "execute_result"
    }
   ],
   "source": [
    "# 링크\n",
    "link = browser.find_element(By.CLASS_NAME, 'job_tit') \\\n",
    "             .find_element(By.CLASS_NAME, 'str_tit')\n",
    "href = link.get_attribute('href')\n",
    "href"
   ]
  },
  {
   "cell_type": "code",
   "execution_count": 114,
   "id": "fb685e14-81f7-44db-b219-f72c54316aa1",
   "metadata": {},
   "outputs": [],
   "source": [
    "parent = browser.find_element(By.CLASS_NAME, 'recruit_list_renew') \n",
    "job_item = parent.find_elements(By.CLASS_NAME, 'box_item')"
   ]
  },
  {
   "cell_type": "code",
   "execution_count": 115,
   "id": "cd4d5160-3eaf-4268-9b82-29632e3baaaf",
   "metadata": {},
   "outputs": [
    {
     "data": {
      "text/plain": [
       "[{'회사명': '퓨처메인(주)',\n",
       "  '직업': '퓨처메인(주) IT개발.영업.정부과제 경력사원 공개모집',\n",
       "  '상세태그': 'SI개발,빅데이터,솔루션,알고리즘,기술영업 외',\n",
       "  '장소': '서울전체 외',\n",
       "  '경력': '2 ~ 10년 · 정규직',\n",
       "  '학력': '대학교(4년)↑',\n",
       "  '마감일': '~05.04(토)',\n",
       "  '링크': 'https://www.saramin.co.kr/zf_user/jobs/relay/view?view_type=list&rec_idx=47930991&adsCategoryItem=effect_bold&'},\n",
       " {'회사명': '(주)제우스',\n",
       "  '직업': '(주)제우스 로봇개발팀 신입/경력 채용 공고(병역특례 전문연구요원 가능)',\n",
       "  '상세태그': '유지보수,정보보안,QA/테스터,SE(시스템엔지니어),네트워크 외',\n",
       "  '장소': '경기 화성시',\n",
       "  '경력': '경력 2년↑ · 정규직',\n",
       "  '학력': '대학교(4년)↑',\n",
       "  '마감일': 'D-7',\n",
       "  '링크': 'https://www.saramin.co.kr/zf_user/jobs/relay/view?view_type=list&rec_idx=47869343&adsCategoryItem=effect_bold&'},\n",
       " {'회사명': '에이치케이엠엔에스(주)',\n",
       "  '직업': '2024 상반기 각 부문별 직원 채용',\n",
       "  '상세태그': '유지보수,탁송기사,4.5톤,전동지게차,지게차 외',\n",
       "  '장소': '경기전체 외',\n",
       "  '경력': '신입 · 경력 · 정규직 외',\n",
       "  '학력': '대학교(4년)↑',\n",
       "  '마감일': 'D-3',\n",
       "  '링크': 'https://www.saramin.co.kr/zf_user/jobs/relay/view?view_type=list&rec_idx=47824584&adsCategoryItem=effect_bold&'},\n",
       " {'회사명': '(주)솔루엠',\n",
       "  '직업': '재무/관리회계, 품질, 마케팅, 해외영업, 자성체 전문 개발 각 부문 담당자',\n",
       "  '상세태그': '모델링,감사,관리회계,기업회계,내부감사 외',\n",
       "  '장소': '경기 용인시 기흥구 외',\n",
       "  '경력': '신입 · 경력 · 정규직',\n",
       "  '학력': '대학교(4년)↑',\n",
       "  '마감일': 'D-7',\n",
       "  '링크': 'https://www.saramin.co.kr/zf_user/jobs/relay/view?view_type=list&rec_idx=47459047&adsCategoryItem=effect_bold&'},\n",
       " {'회사명': '(주)디엠에스',\n",
       "  '직업': '각 부문별 채용(인사기획, 회계, 개조/해외영업, 공정/물리, 기계/기구설계, 펌웨어/전자회로, PC제어, S/W',\n",
       "  '상세태그': '펌웨어,C#,C++,C언어,Linux 외',\n",
       "  '장소': '경기 용인시 기흥구 외',\n",
       "  '경력': '신입 · 경력 · 정규직',\n",
       "  '학력': '대학교(4년)↑',\n",
       "  '마감일': '~04.15(월)',\n",
       "  '링크': 'https://www.saramin.co.kr/zf_user/jobs/relay/view?view_type=list&rec_idx=47902575'},\n",
       " {'회사명': '(주)트윔',\n",
       "  '직업': '[면접비 지급] 3D 머신비전 알고리즘 연구개발',\n",
       "  '상세태그': '데이터분석가,딥러닝,머신러닝,블록체인,빅데이터 외',\n",
       "  '장소': '경기전체 외',\n",
       "  '경력': '신입 · 경력 · 정규직',\n",
       "  '학력': '대학교(4년)↑',\n",
       "  '마감일': '~04.30(화)',\n",
       "  '링크': 'https://www.saramin.co.kr/zf_user/jobs/relay/view?view_type=list&rec_idx=47922989'},\n",
       " {'회사명': '(주)뉴파워프라즈마',\n",
       "  '직업': 'NPP 수원(고색) 펌웨어(임베디드) 연구개발자 경력직 모집',\n",
       "  '상세태그': '임베디드,펌웨어,MCU,S/W,연구원 외',\n",
       "  '장소': '경기전체 외',\n",
       "  '경력': '경력(년수무관) · 정규직',\n",
       "  '학력': '대학교(4년)↑',\n",
       "  '마감일': '~04.19(금)',\n",
       "  '링크': 'https://www.saramin.co.kr/zf_user/jobs/relay/view?view_type=list&rec_idx=47939417'},\n",
       " {'회사명': '(주)트윔',\n",
       "  '직업': '[미국법인] CS 엔지니어 채용',\n",
       "  '상세태그': '웹개발,머신러닝,알고리즘,S/W,C# 외',\n",
       "  '장소': '경기전체 외',\n",
       "  '경력': '3 ~ 15년 · 정규직',\n",
       "  '학력': '대학교(4년)↑',\n",
       "  '마감일': '~04.30(화)',\n",
       "  '링크': 'https://www.saramin.co.kr/zf_user/jobs/relay/view?view_type=list&rec_idx=47922965'},\n",
       " {'회사명': '(주)레이언스',\n",
       "  '직업': '[바텍 네트웍스] 레이언스 연구소 FW개발자 모집',\n",
       "  '상세태그': '임베디드,펌웨어,FPGA,MCU,S/W 외',\n",
       "  '장소': '경기 화성시',\n",
       "  '경력': '신입 · 경력 · 정규직',\n",
       "  '학력': '대학교(4년)↑',\n",
       "  '마감일': 'D-7',\n",
       "  '링크': 'https://www.saramin.co.kr/zf_user/jobs/relay/view?view_type=list&rec_idx=47788167'},\n",
       " {'회사명': '(주)미래컴퍼니',\n",
       "  '직업': '[미래컴퍼니/화성]자동화 장비(반도체/디스플레이) -머신비전S/W',\n",
       "  '상세태그': '영상처리,컴퓨터비전,H/W,S/W,C# 외',\n",
       "  '장소': '경기 화성시',\n",
       "  '경력': '경력 3년↑ · 정규직',\n",
       "  '학력': '대학교(4년)↑',\n",
       "  '마감일': '~05.04(토)',\n",
       "  '링크': 'https://www.saramin.co.kr/zf_user/jobs/relay/view?view_type=list&rec_idx=47926550'},\n",
       " {'회사명': '(주)에너시스',\n",
       "  '직업': '시험장비 기구설계 개발자 모집',\n",
       "  '상세태그': 'H/W,연구원,R&D,제품설계,기계설계 외',\n",
       "  '장소': '경기 화성시',\n",
       "  '경력': '경력 3년↑ · 정규직',\n",
       "  '학력': '대학교(4년)↑',\n",
       "  '마감일': '~04.26(금)',\n",
       "  '링크': 'https://www.saramin.co.kr/zf_user/jobs/relay/view?view_type=list&rec_idx=47921827'},\n",
       " {'회사명': '(주)뉴블라코리아',\n",
       "  '직업': '[한화그룹 계열사/뉴블라] Physical Implementation Engineer',\n",
       "  '상세태그': 'FPGA,H/W,C++,Python,Verilog 외',\n",
       "  '장소': '서울 강남구 외',\n",
       "  '경력': '7 ~ 15년 · 정규직',\n",
       "  '학력': '대학교(4년)↑',\n",
       "  '마감일': 'D-7',\n",
       "  '링크': 'https://www.saramin.co.kr/zf_user/jobs/relay/view?view_type=list&rec_idx=47832316'},\n",
       " {'회사명': '(주)윈텍오토메이션',\n",
       "  '직업': '물리학 응용 비전 광학개발 신입/경력(전문연구요원 가능)',\n",
       "  '상세태그': '딥러닝,머신러닝,빅데이터,알고리즘,영상처리 외',\n",
       "  '장소': '서울전체 외',\n",
       "  '경력': '경력무관 · 정규직',\n",
       "  '학력': '대학교(4년)↑',\n",
       "  '마감일': '~05.01(수)',\n",
       "  '링크': 'https://www.saramin.co.kr/zf_user/jobs/relay/view?view_type=list&rec_idx=47688997'},\n",
       " {'회사명': '지오캡쳐',\n",
       "  '직업': '[신입 및 경력] 공간정보분야 연구(R&D) 인력 채용',\n",
       "  '상세태그': 'GIS,ArcGIS,C++,Python,QGIS 외',\n",
       "  '장소': '경기 화성시',\n",
       "  '경력': '신입 · 경력 · 정규직',\n",
       "  '학력': '대학교(4년)↑',\n",
       "  '마감일': '~06.01(토)',\n",
       "  '링크': 'https://www.saramin.co.kr/zf_user/jobs/relay/view?view_type=list&rec_idx=47908523'},\n",
       " {'회사명': '(주)트윔',\n",
       "  '직업': '[면접비 지급] 인공지능 기반 머신비전 연구개발',\n",
       "  '상세태그': 'SI개발,딥러닝,머신러닝,빅데이터,솔루션 외',\n",
       "  '장소': '경기전체 외',\n",
       "  '경력': '신입 · 경력 · 정규직',\n",
       "  '학력': '대학교(4년)↑',\n",
       "  '마감일': '~04.24(수)',\n",
       "  '링크': 'https://www.saramin.co.kr/zf_user/jobs/relay/view?view_type=list&rec_idx=47849100'},\n",
       " {'회사명': '로얄앤컴퍼니(주)',\n",
       "  '직업': '[로얄앤컴퍼니] 정보관리팀 개발자 채용',\n",
       "  '상세태그': 'ERP,DBMS,RPA,C#,C++ 외',\n",
       "  '장소': '서울 강남구 외',\n",
       "  '경력': '신입 · 경력 · 정규직',\n",
       "  '학력': '대학교(4년)↑',\n",
       "  '마감일': 'D-4',\n",
       "  '링크': 'https://www.saramin.co.kr/zf_user/jobs/relay/view?view_type=list&rec_idx=47765217'},\n",
       " {'회사명': '주식회사 벨로크',\n",
       "  '직업': '(주) 벨로크 기업부설연구소 경력사원 모집(Phtyon, AI)',\n",
       "  '상세태그': '유지보수,알고리즘,영상처리,AI(인공지능),정보보안 외',\n",
       "  '장소': '서울 금천구 외',\n",
       "  '경력': '5 ~ 10년 · 정규직',\n",
       "  '학력': '대학교(4년)↑',\n",
       "  '마감일': '~04.30(화)',\n",
       "  '링크': 'https://www.saramin.co.kr/zf_user/jobs/relay/view?view_type=list&rec_idx=47763801'},\n",
       " {'회사명': '(주)트윔',\n",
       "  '직업': '[면접비 지급] 머신비전 검사운영자 채용',\n",
       "  '상세태그': '유지보수,SI개발,딥러닝,머신러닝,솔루션 외',\n",
       "  '장소': '경기전체 외',\n",
       "  '경력': '신입 · 경력 · 정규직',\n",
       "  '학력': '대학교(4년)↑',\n",
       "  '마감일': 'D-3',\n",
       "  '링크': 'https://www.saramin.co.kr/zf_user/jobs/relay/view?view_type=list&rec_idx=47755354'},\n",
       " {'회사명': '(주)랩스피너',\n",
       "  '직업': '[랩스피너] SW 개발자 모집',\n",
       "  '상세태그': '임베디드,S/W,라즈베리파이,Python,임베디드리눅스 외',\n",
       "  '장소': '경기 화성시',\n",
       "  '경력': '경력무관 · 정규직',\n",
       "  '학력': '대학교(4년)↑',\n",
       "  '마감일': '오늘마감',\n",
       "  '링크': 'https://www.saramin.co.kr/zf_user/jobs/relay/view?view_type=list&rec_idx=47711186'},\n",
       " {'회사명': '대우전자부품(주)',\n",
       "  '직업': '자동차전장부품 SW 개발 담당자 채용 (동탄 연구소)',\n",
       "  '상세태그': '임베디드,S/W,C++,R&D',\n",
       "  '장소': '경기 화성시',\n",
       "  '경력': '경력 3년↑ · 정규직 외',\n",
       "  '학력': '대학교(4년)↑',\n",
       "  '마감일': '채용시',\n",
       "  '링크': 'https://www.saramin.co.kr/zf_user/jobs/relay/view?view_type=list&rec_idx=47647667'},\n",
       " {'회사명': '(주)이노메트리',\n",
       "  '직업': '[2차전지 장비업] 24년 상반기 경력사원 모집',\n",
       "  '상세태그': '딥러닝,알고리즘,컴퓨터비전,S/W,C# 외',\n",
       "  '장소': '경기전체 외',\n",
       "  '경력': '경력 · 정규직',\n",
       "  '학력': '학력무관',\n",
       "  '마감일': '~04.18(목)',\n",
       "  '링크': 'https://www.saramin.co.kr/zf_user/jobs/relay/view?view_type=list&rec_idx=47883631&adsCategoryItem=effect_bold&'},\n",
       " {'회사명': '지오캡쳐',\n",
       "  '직업': '[신입 및 경력] 공간정보데이터 DB구축',\n",
       "  '상세태그': '이미지프로세싱,GIS,ArcGIS,C++,Python 외',\n",
       "  '장소': '경기 화성시',\n",
       "  '경력': '신입 · 경력 · 정규직',\n",
       "  '학력': '학력무관',\n",
       "  '마감일': '채용시',\n",
       "  '링크': 'https://www.saramin.co.kr/zf_user/jobs/relay/view?view_type=list&rec_idx=47933262'},\n",
       " {'회사명': '티이엠씨(주)',\n",
       "  '직업': '상반기 분야별 신입/경력 채용',\n",
       "  '상세태그': 'IT컨설팅,SE(시스템엔지니어),네트워크,인프라,ERP 외',\n",
       "  '장소': '충북 보은군 외',\n",
       "  '경력': '신입 · 경력 · 정규직',\n",
       "  '학력': '고졸↑',\n",
       "  '마감일': '~04.19(금)',\n",
       "  '링크': 'https://www.saramin.co.kr/zf_user/jobs/relay/view?view_type=list&rec_idx=47915521&adsCategoryItem=effect_bold&'},\n",
       " {'회사명': '안국약품(주)',\n",
       "  '직업': '안국약품㈜ 4월 신입 및 경력직 채용',\n",
       "  '상세태그': 'SAP,관리회계,기업회계,내부감사,법인결산 외',\n",
       "  '장소': '서울전체 외',\n",
       "  '경력': '경력무관 · 정규직 외',\n",
       "  '학력': '고졸↑',\n",
       "  '마감일': 'D-7',\n",
       "  '링크': 'https://www.saramin.co.kr/zf_user/jobs/relay/view?view_type=list&rec_idx=47938062&adsCategoryItem=effect_bold&'},\n",
       " {'회사명': '엠케이에스코리아(유)',\n",
       "  '직업': '엠케이에스코리아(유)|아토텍코리아㈜ 2024년 각 부문 경력/신입 채용',\n",
       "  '상세태그': '기술지원,데이터분석가,백엔드/서버개발,유지보수,정보보안 외',\n",
       "  '장소': '대전 유성구 외',\n",
       "  '경력': '신입 · 경력 · 정규직 외',\n",
       "  '학력': '고졸↑',\n",
       "  '마감일': 'D-7',\n",
       "  '링크': 'https://www.saramin.co.kr/zf_user/jobs/relay/view?view_type=list&rec_idx=47805991'},\n",
       " {'회사명': '한미약품(주)',\n",
       "  '직업': '2024년 상반기 한미그룹 인재모집 [정기공채]',\n",
       "  '상세태그': '보안컨설팅,정보보안,네트워크,빅데이터,솔루션 외',\n",
       "  '장소': '전국 외',\n",
       "  '경력': '신입 · 경력 · 정규직',\n",
       "  '학력': '대학(2,3년)↑',\n",
       "  '마감일': '~04.21(일)',\n",
       "  '링크': 'https://www.saramin.co.kr/zf_user/jobs/relay/view?view_type=list&rec_idx=47890013'},\n",
       " {'회사명': '한국야스카와전기(주)',\n",
       "  '직업': '한국야스카와전기㈜ 신입 및 경력사원 모집',\n",
       "  '상세태그': '기술지원,데이터분석가,백엔드/서버개발,앱개발,웹개발 외',\n",
       "  '장소': '경기 안양시 외',\n",
       "  '경력': '신입 · 경력 · 정규직',\n",
       "  '학력': '대학(2,3년)↑',\n",
       "  '마감일': 'D-7',\n",
       "  '링크': 'https://www.saramin.co.kr/zf_user/jobs/relay/view?view_type=list&rec_idx=47942855'},\n",
       " {'회사명': '(주)티로보틱스',\n",
       "  '직업': '㈜티로보틱스 2024년 상반기 각 부분 신입 및 경력사원 채용',\n",
       "  '상세태그': '유지보수,SE(시스템엔지니어),S/W,C#,C++ 외',\n",
       "  '장소': '경기 오산시 외',\n",
       "  '경력': '신입 · 경력 · 정규직',\n",
       "  '학력': '대학(2,3년)↑',\n",
       "  '마감일': '~04.28(일)',\n",
       "  '링크': 'https://www.saramin.co.kr/zf_user/jobs/relay/view?view_type=list&rec_idx=47889433'},\n",
       " {'회사명': '(주)피아이이',\n",
       "  '직업': '㈜피아이이 신입/경력사원 공개채용',\n",
       "  '상세태그': '기술지원,데이터분석가,데이터엔지니어,유지보수,SE(시스템엔지니어) 외',\n",
       "  '장소': '경기전체 외',\n",
       "  '경력': '신입 · 경력 · 정규직',\n",
       "  '학력': '고졸↑',\n",
       "  '마감일': '~04.30(화)',\n",
       "  '링크': 'https://www.saramin.co.kr/zf_user/jobs/relay/view?view_type=list&rec_idx=47868816'},\n",
       " {'회사명': '(주)케이씨이노베이션',\n",
       "  '직업': '2024년 각 부문별 신입/경력 모집',\n",
       "  '상세태그': '보안컨설팅,정보보안,정보통신,정보처리,납품운전원 외',\n",
       "  '장소': '경기 화성시 외',\n",
       "  '경력': '신입 · 경력 · 정규직',\n",
       "  '학력': '대학(2,3년)↑',\n",
       "  '마감일': '~04.15(월)',\n",
       "  '링크': 'https://www.saramin.co.kr/zf_user/jobs/relay/view?view_type=list&rec_idx=47942483'},\n",
       " {'회사명': '(주)케이씨이노베이션',\n",
       "  '직업': '2024년 각 부문별 경력 모집',\n",
       "  '상세태그': '보안컨설팅,정보보안,SE(시스템엔지니어),정보통신,정보처리 외',\n",
       "  '장소': '경기 화성시',\n",
       "  '경력': '경력 · 정규직',\n",
       "  '학력': '대학(2,3년)↑',\n",
       "  '마감일': '~04.15(월)',\n",
       "  '링크': 'https://www.saramin.co.kr/zf_user/jobs/relay/view?view_type=list&rec_idx=47942430'},\n",
       " {'회사명': '티아이에스 주식회사',\n",
       "  '직업': '2024년 TIS 로봇개발팀(제어) 경력 채용',\n",
       "  '상세태그': '머신러닝,알고리즘,S/W,.NET,C# 외',\n",
       "  '장소': '경기 화성시 외',\n",
       "  '경력': '경력 5년↑ · 정규직',\n",
       "  '학력': '대학(2,3년)↑',\n",
       "  '마감일': '~05.05(일)',\n",
       "  '링크': 'https://www.saramin.co.kr/zf_user/jobs/relay/view?view_type=list&rec_idx=47942035'},\n",
       " {'회사명': '티아이에스 주식회사',\n",
       "  '직업': '2024년 TIS 제어팀 경력직 채용',\n",
       "  '상세태그': 'S/W,.NET,C#,C++,로봇엔지니어 외',\n",
       "  '장소': '경기 화성시',\n",
       "  '경력': '경력 15년↓ · 정규직',\n",
       "  '학력': '학력무관',\n",
       "  '마감일': '~05.05(일)',\n",
       "  '링크': 'https://www.saramin.co.kr/zf_user/jobs/relay/view?view_type=list&rec_idx=47942018'},\n",
       " {'회사명': '(주)아이엠반도체',\n",
       "  '직업': '2024년도 상반기 연구 개발 모집 공고',\n",
       "  '상세태그': '데이터분석가,데이터엔지니어,백엔드/서버개발,앱개발,프론트엔드 외',\n",
       "  '장소': '경기 화성시',\n",
       "  '경력': '경력무관 · 정규직',\n",
       "  '학력': '학력무관',\n",
       "  '마감일': '~04.30(화)',\n",
       "  '링크': 'https://www.saramin.co.kr/zf_user/jobs/relay/view?view_type=list&rec_idx=47898328'},\n",
       " {'회사명': '(주)씨피에스테크',\n",
       "  '직업': '파이썬 (Python) 백엔드 개발자 모집 신입/경력',\n",
       "  '상세태그': '백엔드/서버개발,프론트엔드,SI개발,데이터시각화,딥러닝 외',\n",
       "  '장소': '경기 화성시',\n",
       "  '경력': '경력무관 · 정규직',\n",
       "  '학력': '학력무관',\n",
       "  '마감일': '~05.05(일)',\n",
       "  '링크': 'https://www.saramin.co.kr/zf_user/jobs/relay/view?view_type=list&rec_idx=47939118'},\n",
       " {'회사명': '(주)비보존제약',\n",
       "  '직업': '부문별 신입/경력 공개채용',\n",
       "  '상세태그': '데이터분석가,데이터엔지니어,유지보수,ERP,C# 외',\n",
       "  '장소': '경기 화성시 외',\n",
       "  '경력': '신입 · 경력 · 정규직 외',\n",
       "  '학력': '고졸↑',\n",
       "  '마감일': '~05.17(금)',\n",
       "  '링크': 'https://www.saramin.co.kr/zf_user/jobs/relay/view?view_type=list&rec_idx=47792831'},\n",
       " {'회사명': '(주)와이솔',\n",
       "  '직업': '㈜와이솔 채용 신입/경력 부문 모집 공고',\n",
       "  '상세태그': '정보통신,C++,C언어,Python,기술영업 외',\n",
       "  '장소': '경기전체 외',\n",
       "  '경력': '신입 · 경력 · 정규직',\n",
       "  '학력': '학력무관',\n",
       "  '마감일': '내일마감',\n",
       "  '링크': 'https://www.saramin.co.kr/zf_user/jobs/relay/view?view_type=list&rec_idx=47855388'},\n",
       " {'회사명': '유니셈(주)',\n",
       "  '직업': '반도체 장비 유지보수 엔지니어 외 각부문 채용',\n",
       "  '상세태그': '백엔드/서버개발,정보보안,네트워크,정보통신,H/W 외',\n",
       "  '장소': '경기전체 외',\n",
       "  '경력': '신입 · 경력 · 정규직',\n",
       "  '학력': '고졸↑',\n",
       "  '마감일': 'D-3',\n",
       "  '링크': 'https://www.saramin.co.kr/zf_user/jobs/relay/view?view_type=list&rec_idx=47841908&adsCategoryItem=effect_bold&'},\n",
       " {'회사명': '(주)모토닉스',\n",
       "  '직업': '[기술연구소] 모토닉스 H/W설계 경력사원 채용모집',\n",
       "  '상세태그': '네트워크,솔루션,임베디드,정보통신,펌웨어 외',\n",
       "  '장소': '경기전체 외',\n",
       "  '경력': '경력 3년↑ · 정규직',\n",
       "  '학력': '대학(2,3년)↑',\n",
       "  '마감일': '~05.04(토)',\n",
       "  '링크': 'https://www.saramin.co.kr/zf_user/jobs/relay/view?view_type=list&rec_idx=47932739'},\n",
       " {'회사명': '(주)트윔',\n",
       "  '직업': '[면접비 지급] 머신비전 사업팀 팀장급 채용',\n",
       "  '상세태그': '백엔드/서버개발,딥러닝,머신러닝,빅데이터,알고리즘 외',\n",
       "  '장소': '경기 화성시',\n",
       "  '경력': '경력 10년↑ · 정규직',\n",
       "  '학력': '대학(2,3년)↑',\n",
       "  '마감일': '~05.04(토)',\n",
       "  '링크': 'https://www.saramin.co.kr/zf_user/jobs/relay/view?view_type=list&rec_idx=47931263'},\n",
       " {'회사명': '(주)이엘피',\n",
       "  '직업': '연구소 SW 개발자(연구원) 신입 모집',\n",
       "  '상세태그': 'S/W,C#,MFC,디스플레이,OLED 외',\n",
       "  '장소': '경기전체 외',\n",
       "  '경력': '신입 · 경력 · 정규직',\n",
       "  '학력': '대학(2,3년)↑',\n",
       "  '마감일': '~05.31(금)',\n",
       "  '링크': 'https://www.saramin.co.kr/zf_user/jobs/relay/view?view_type=list&rec_idx=47897562'},\n",
       " {'회사명': '(주)우리엔시스템',\n",
       "  '직업': '영상처리 소프트웨어 개발자',\n",
       "  '상세태그': 'SI개발,알고리즘,영상처리,이미지프로세싱,컴퓨터비전 외',\n",
       "  '장소': '경기 화성시',\n",
       "  '경력': '신입 · 경력 · 정규직',\n",
       "  '학력': '대학(2,3년)↑',\n",
       "  '마감일': '~05.03(금)',\n",
       "  '링크': 'https://www.saramin.co.kr/zf_user/jobs/relay/view?view_type=list&rec_idx=47925338'},\n",
       " {'회사명': '(주)리오솔루션',\n",
       "  '직업': '응용 소프트웨어 (C#, C++) 개발자 신입/경력직 공개 채용',\n",
       "  '상세태그': '기술지원,알고리즘,S/W,C#,C++',\n",
       "  '장소': '경기 화성시',\n",
       "  '경력': '신입 · 경력 · 정규직',\n",
       "  '학력': '학력무관',\n",
       "  '마감일': '~05.02(목)',\n",
       "  '링크': 'https://www.saramin.co.kr/zf_user/jobs/relay/view?view_type=list&rec_idx=47912744'},\n",
       " {'회사명': '(주)이엘피',\n",
       "  '직업': '연구소 영상처리 개발 경력 모집',\n",
       "  '상세태그': 'S/W,C#,C++,C언어,Git 외',\n",
       "  '장소': '경기전체 외',\n",
       "  '경력': '5 ~ 10년 · 정규직',\n",
       "  '학력': '대학(2,3년)↑',\n",
       "  '마감일': '~05.31(금)',\n",
       "  '링크': 'https://www.saramin.co.kr/zf_user/jobs/relay/view?view_type=list&rec_idx=47897587'},\n",
       " {'회사명': '(주)이프',\n",
       "  '직업': '[S/W 개발] 머신비전/제어 개발자 신입/경력',\n",
       "  '상세태그': '딥러닝,Windows,.NET,C#,MFC 외',\n",
       "  '장소': '경기 화성시',\n",
       "  '경력': '경력무관 · 정규직',\n",
       "  '학력': '학력무관',\n",
       "  '마감일': '~05.02(목)',\n",
       "  '링크': 'https://www.saramin.co.kr/zf_user/jobs/relay/view?view_type=list&rec_idx=47913560'},\n",
       " {'회사명': '(주)이랑텍',\n",
       "  '직업': '[글로벌강소기업] 기술연구소 기구팀 직원모집',\n",
       "  '상세태그': '정보통신,연구원,R&D,R&D기획,기술연구 외',\n",
       "  '장소': '경기 화성시',\n",
       "  '경력': '신입 · 경력 · 계약직',\n",
       "  '학력': '학력무관',\n",
       "  '마감일': '~05.01(수)',\n",
       "  '링크': 'https://www.saramin.co.kr/zf_user/jobs/relay/view?view_type=list&rec_idx=47905504'},\n",
       " {'회사명': '한국기가포톤(주)',\n",
       "  '직업': '한국기가포톤(주) CS부 IT팀 솔루션 개발 엔지니어 채용공고',\n",
       "  '상세태그': '앱개발,SE(시스템엔지니어),C#,C++,C언어 외',\n",
       "  '장소': '경기 화성시',\n",
       "  '경력': '3 ~ 8년 · 정규직',\n",
       "  '학력': '학력무관',\n",
       "  '마감일': '~04.30(화)',\n",
       "  '링크': 'https://www.saramin.co.kr/zf_user/jobs/relay/view?view_type=list&rec_idx=47737364'},\n",
       " {'회사명': '굿어스(주)',\n",
       "  '직업': '[화성] DBMS 기술지원 담당자 (경력 4년 이상 6년 이하)',\n",
       "  '상세태그': '유지보수,DBA,DBMS,H/W,S/W 외',\n",
       "  '장소': '경기 화성시',\n",
       "  '경력': '4 ~ 6년 · 정규직',\n",
       "  '학력': '학력무관',\n",
       "  '마감일': '~04.21(일)',\n",
       "  '링크': 'https://www.saramin.co.kr/zf_user/jobs/relay/view?view_type=list&rec_idx=47896379'},\n",
       " {'회사명': '현대오토에버(주)',\n",
       "  '직업': '차량SW · ICT · 경영지원 부문 채용',\n",
       "  '상세태그': '기술지원,데이터분석가,백엔드/서버개발,보안컨설팅,정보보안 외',\n",
       "  '장소': '서울 강남구 외',\n",
       "  '경력': '경력 · 정규직 외',\n",
       "  '학력': '학력무관',\n",
       "  '마감일': '상시채용',\n",
       "  '링크': 'https://www.saramin.co.kr/zf_user/jobs/relay/view?view_type=list&rec_idx=47669139'},\n",
       " {'회사명': '(주)에프에스티',\n",
       "  '직업': '㈜에프에스티 24년 상반기 신규 채용',\n",
       "  '상세태그': '앱개발,알고리즘,H/W,C#,C++ 외',\n",
       "  '장소': '경기 화성시 외',\n",
       "  '경력': '신입 · 경력 · 정규직 외',\n",
       "  '학력': '고졸↑',\n",
       "  '마감일': '~04.30(화)',\n",
       "  '링크': 'https://www.saramin.co.kr/zf_user/jobs/relay/view?view_type=list&rec_idx=47872043'}]"
      ]
     },
     "execution_count": 115,
     "metadata": {},
     "output_type": "execute_result"
    }
   ],
   "source": [
    "job_data = []\n",
    "\n",
    "for job_info in job_item:\n",
    "    # 회사명\n",
    "    company = job_info.find_element(By.CLASS_NAME, 'company_nm').text.split('\\n')[0]\n",
    "    \n",
    "    # 직업명\n",
    "    title = job_info.find_element(By.CLASS_NAME, 'job_tit').text\n",
    "\n",
    "    # 직업 상세태그\n",
    "    job_sector = job_info.find_element(By.CLASS_NAME, 'job_sector').text\n",
    "    job_list = job_sector.split('\\n')\n",
    "    \n",
    "    if job_list[-1] == '외':\n",
    "        job_list.pop()  # '외' 제거\n",
    "        last_job = \" 외\"  # 마지막 직종으로 '외' 추가\n",
    "        # 이전 직종들과 함께 출력\n",
    "        Tags = ','.join(job_list) + last_job\n",
    "    else:\n",
    "        Tags = ','.join(job_list)\n",
    "        \n",
    "    # 장소\n",
    "    place = job_info.find_element(By.CLASS_NAME, 'work_place').text\n",
    "    \n",
    "    # 경력\n",
    "    career = job_info.find_element(By.CLASS_NAME, 'career').text\n",
    "\n",
    "    # 학력\n",
    "    education = job_info.find_element(By.CLASS_NAME, 'education').text\n",
    "\n",
    "    # 마감일\n",
    "    deadline = job_info.find_element(By.CLASS_NAME, 'support_detail').text.split('\\n')[0]\n",
    "\n",
    "    # 채용링크\n",
    "    link = job_info.find_element(By.CLASS_NAME, 'job_tit') \\\n",
    "             .find_element(By.CLASS_NAME, 'str_tit')\n",
    "    href = link.get_attribute('href')\n",
    "\n",
    "    job_data.append({\n",
    "        '회사명': company,\n",
    "        '직업': title,\n",
    "        '상세태그': Tags,\n",
    "        '장소': place,\n",
    "        '경력': career,\n",
    "        '학력': education,\n",
    "        '마감일': deadline,\n",
    "        '링크': href\n",
    "    })\n",
    "\n",
    "job_data\n",
    "    "
   ]
  },
  {
   "cell_type": "code",
   "execution_count": 110,
   "id": "e6ce65c3-db67-43d8-9511-a3c941a84ee7",
   "metadata": {},
   "outputs": [],
   "source": [
    "import pandas as pd\n",
    "\n",
    "df = pd.DataFrame(job_data)\n",
    "df.to_csv('사람인 채용공고.csv', encoding='utf-8-sig')"
   ]
  },
  {
   "cell_type": "code",
   "execution_count": 126,
   "id": "f4660633-328e-43af-8501-4e620aa1d22b",
   "metadata": {},
   "outputs": [],
   "source": [
    "# IT 수도권(신입)\n",
    "url = 'https://www.saramin.co.kr/zf_user/jobs/list/domestic?loc_mcd=101000%2C102000%2C108000&cat_mcls=2&exp_cd=1&panel_type=&search_optional_item=y&search_done=y&panel_count=y&preview=y'\n",
    "browser.get(url)"
   ]
  },
  {
   "cell_type": "code",
   "execution_count": null,
   "id": "6d772eec-ca44-4c06-8026-035c2c69c243",
   "metadata": {},
   "outputs": [],
   "source": [
    "# IT 수도권(신입)\n",
    "url = 'https://www.saramin.co.kr/zf_user/jobs/list/domestic?cat_mcls=2&loc_mcd=101000%2C102000%2C108000&panel_type=&search_optional_item=n&search_done=y&panel_count=y&preview=y'\n",
    "browser.get(url)"
   ]
  },
  {
   "cell_type": "code",
   "execution_count": null,
   "id": "db25afa6-5156-4bd0-8c32-c085dad69fce",
   "metadata": {},
   "outputs": [],
   "source": [
    "import time\n",
    "\n",
    "job_data = []\n",
    "for i in range(1, 5): # 크롤링 하고싶은 페이지 수 만큼\n",
    "    url = f'https://www.saramin.co.kr/zf_user/jobs/list/domestic?page={i}&loc_mcd=101000%2C102000%2C108000&cat_mcls=2&exp_cd=1&search_optional_item=y&search_done=y&panel_count=y&preview=y&isAjaxRequest=0&page_count=100&sort=RL&type=domestic&is_param=1&isSearchResultEmpty=1&isSectionHome=0&searchParamCount=3&tab=domestic'\n",
    "    browser.get(url)\n",
    "    time.sleep(3)\n",
    "\n",
    "    parent = browser.find_element(By.CLASS_NAME, 'recruit_list_renew') \n",
    "    job_item = parent.find_elements(By.CLASS_NAME, 'box_item')\n",
    "\n",
    "    for job_info in job_item:\n",
    "        company = job_info.find_element(By.CLASS_NAME, 'company_nm').text.split('\\n')[0]\n",
    "        title = job_info.find_element(By.CLASS_NAME, 'job_tit').text\n",
    "        job_sector = job_info.find_element(By.CLASS_NAME, 'job_sector').text\n",
    "        job_list = job_sector.split('\\n')\n",
    "        \n",
    "        if job_list[-1] == '외':\n",
    "            job_list.pop()  # '외' 제거\n",
    "            last_job = \" 외\"  # 마지막 직종으로 '외' 추가\n",
    "            Tags = ','.join(job_list) + last_job\n",
    "        else:\n",
    "            Tags = ','.join(job_list)\n",
    "            \n",
    "        place = job_info.find_element(By.CLASS_NAME, 'work_place').text\n",
    "        career = job_info.find_element(By.CLASS_NAME, 'career').text\n",
    "        education = job_info.find_element(By.CLASS_NAME, 'education').text\n",
    "        deadline = job_info.find_element(By.CLASS_NAME, 'support_detail').text.split('\\n')[0]\n",
    "        \n",
    "        link = job_info.find_element(By.CLASS_NAME, 'job_tit') \\\n",
    "             .find_element(By.CLASS_NAME, 'str_tit')\n",
    "        href = link.get_attribute('href')\n",
    "        \n",
    "        job_data.append({\n",
    "            '회사명': company,\n",
    "            '직업': title,\n",
    "            '상세태그': Tags,\n",
    "            '장소': place,\n",
    "            '경력': career,\n",
    "            '학력': education,\n",
    "            '마감일': deadline,\n",
    "            '링크': href\n",
    "        })\n",
    "\n",
    "job_data"
   ]
  },
  {
   "cell_type": "code",
   "execution_count": null,
   "id": "dd968858-c61e-4436-900e-fe6bb858df7d",
   "metadata": {},
   "outputs": [],
   "source": [
    "import pandas as pd\n",
    "\n",
    "df = pd.DataFrame(job_data)\n",
    "df.to_csv('IT수도권_신입(사람인).csv', encoding='utf-8-sig')"
   ]
  },
  {
   "cell_type": "code",
   "execution_count": null,
   "id": "00cf9143-5f63-47aa-a9fe-9b49689b33c3",
   "metadata": {},
   "outputs": [],
   "source": []
  }
 ],
 "metadata": {
  "kernelspec": {
   "display_name": "Python 3 (ipykernel)",
   "language": "python",
   "name": "python3"
  },
  "language_info": {
   "codemirror_mode": {
    "name": "ipython",
    "version": 3
   },
   "file_extension": ".py",
   "mimetype": "text/x-python",
   "name": "python",
   "nbconvert_exporter": "python",
   "pygments_lexer": "ipython3",
   "version": "3.11.3"
  }
 },
 "nbformat": 4,
 "nbformat_minor": 5
}
